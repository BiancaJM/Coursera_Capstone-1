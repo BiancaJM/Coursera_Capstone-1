{
    "nbformat_minor": 1, 
    "cells": [
        {
            "source": "# Peer-graded Assignment:\n# _Segmenting and Clustering Neighbourhoods in Toronto_", 
            "cell_type": "markdown", 
            "metadata": {}
        }, 
        {
            "source": "_By Oludayo_", 
            "cell_type": "markdown", 
            "metadata": {}
        }, 
        {
            "source": "## Table of Contents\n\n<div class=\"alert alert-block alert-info\" style=\"margin-top: 20px\">\n\nThis assignment is in 3 parts as indicated below:\n\n\n<a href='#part1'>1. Web Scrapping and Data Cleansing</a>\n<br>\n<a href='#part2'>2. Geocoding</a>\n<br>\n<a href='#part3'>3. Exploration and Clustering</a></div>", 
            "cell_type": "markdown", 
            "metadata": {}
        }, 
        {
            "source": "Every part when updated is committed to `github` with respective link for assessment.", 
            "cell_type": "markdown", 
            "metadata": {}
        }, 
        {
            "source": "<a id='part1'></a>", 
            "cell_type": "markdown", 
            "metadata": {}
        }, 
        {
            "source": "## Part 1 - Web Scrapping and Data Cleansing", 
            "cell_type": "markdown", 
            "metadata": {}
        }, 
        {
            "source": "### 1.1 Notebook Created", 
            "cell_type": "markdown", 
            "metadata": {}
        }, 
        {
            "source": "A notebook was created accordingly", 
            "cell_type": "markdown", 
            "metadata": {}
        }, 
        {
            "source": "### 1.2 Web scrapping", 
            "cell_type": "markdown", 
            "metadata": {}
        }, 
        {
            "source": "To start the web scrapping of the Wikipedia page for the __[Toronto Neighbourhood](https://en.wikipedia.org/wiki/List_of_postal_codes_of_Canada:_M)__, the following steps were taken and necessary libraries imported:", 
            "cell_type": "markdown", 
            "metadata": {}
        }, 
        {
            "execution_count": 1, 
            "cell_type": "code", 
            "metadata": {}, 
            "outputs": [], 
            "source": "import requests\nimport pandas as pd\nfrom bs4 import BeautifulSoup"
        }, 
        {
            "source": "The `url` of the wikipedia page of the Toronto neighbourhood is then assigned as shown below:", 
            "cell_type": "markdown", 
            "metadata": {}
        }, 
        {
            "execution_count": 2, 
            "cell_type": "code", 
            "metadata": {}, 
            "outputs": [], 
            "source": "wikipedia_link = 'https://en.wikipedia.org/wiki/List_of_postal_codes_of_Canada:_M'"
        }, 
        {
            "source": "Sometime, it is important to specify the `User-Agent` to be able to be certain the requested page is actually downloaded. The following steps demonstrate this:", 
            "cell_type": "markdown", 
            "metadata": {}
        }, 
        {
            "execution_count": 3, 
            "cell_type": "code", 
            "metadata": {}, 
            "outputs": [], 
            "source": "headers = {'User-Agent': 'Mozilla/5.0 (Windows NT 10.0; Win64; x64; rv:64.0) Gecko/20100101 Firefox/64.0'}"
        }, 
        {
            "execution_count": 4, 
            "cell_type": "code", 
            "metadata": {}, 
            "outputs": [], 
            "source": "wikipedia_page = requests.get(wikipedia_link, headers = headers)"
        }, 
        {
            "source": "To test whether the wikipedia page was rightly downloaded with the needed content, perform either of the following Options 1 or 2. If code `\"200\"` is obtained, then page downloaded rightly, otherwise, if code `\"403\"`, it is bad link - page forbidden.", 
            "cell_type": "markdown", 
            "metadata": {}
        }, 
        {
            "execution_count": 5, 
            "cell_type": "code", 
            "metadata": {}, 
            "outputs": [
                {
                    "execution_count": 5, 
                    "metadata": {}, 
                    "data": {
                        "text/plain": "<Response [200]>"
                    }, 
                    "output_type": "execute_result"
                }
            ], 
            "source": "# Option 1\nwikipedia_page"
        }, 
        {
            "execution_count": 6, 
            "cell_type": "code", 
            "metadata": {}, 
            "outputs": [
                {
                    "execution_count": 6, 
                    "metadata": {}, 
                    "data": {
                        "text/plain": "200"
                    }, 
                    "output_type": "execute_result"
                }
            ], 
            "source": "# Option 2\nwikipedia_page.status_code"
        }, 
        {
            "source": "Now, to clean our html page (source), the `BeautifulSoup` method is applied as shown below:", 
            "cell_type": "markdown", 
            "metadata": {}
        }, 
        {
            "execution_count": 7, 
            "cell_type": "code", 
            "metadata": {}, 
            "outputs": [], 
            "source": "# Cleans html file\nsoup = BeautifulSoup(wikipedia_page.content, 'html.parser')\n# soup"
        }, 
        {
            "source": "Or to see a more organised `html`, use `prettify` _(this might not be necessary though)_.", 
            "cell_type": "markdown", 
            "metadata": {}
        }, 
        {
            "execution_count": 8, 
            "cell_type": "code", 
            "metadata": {}, 
            "outputs": [], 
            "source": "# print(soup.prettify())"
        }, 
        {
            "execution_count": 9, 
            "cell_type": "code", 
            "metadata": {}, 
            "outputs": [
                {
                    "execution_count": 9, 
                    "metadata": {}, 
                    "data": {
                        "text/plain": "<tbody><tr>\n<th>Postcode</th>\n<th>Borough</th>\n<th>Neighbourhood\n</th></tr>\n<tr>\n<td>M1A</td>\n<td>Not assigned</td>\n<td>Not assigned\n</td></tr>\n<tr>\n<td>M2A</td>\n<td>Not assigned</td>\n<td>Not assigned\n</td></tr>\n<tr>\n<td>M3A</td>\n<td><a href=\"/wiki/North_York\" title=\"North York\">North York</a></td>\n<td><a href=\"/wiki/Parkwoods\" title=\"Parkwoods\">Parkwoods</a>\n</td></tr>\n<tr>\n<td>M4A</td>\n<td><a href=\"/wiki/North_York\" title=\"North York\">North York</a></td>\n<td><a href=\"/wiki/Victoria_Village\" title=\"Victoria Village\">Victoria Village</a>\n</td></tr>\n<tr>\n<td>M5A</td>\n<td><a href=\"/wiki/Downtown_Toronto\" title=\"Downtown Toronto\">Downtown Toronto</a></td>\n<td><a href=\"/wiki/Harbourfront_(Toronto)\" title=\"Harbourfront (Toronto)\">Harbourfront</a>\n</td></tr>\n<tr>\n<td>M5A</td>\n<td><a href=\"/wiki/Downtown_Toronto\" title=\"Downtown Toronto\">Downtown Toronto</a></td>\n<td><a href=\"/wiki/Regent_Park\" title=\"Regent Park\">Regent Park</a>\n</td></tr>\n<tr>\n<td>M6A</td>\n<td><a href=\"/wiki/North_York\" title=\"North York\">North York</a></td>\n<td><a href=\"/wiki/Lawrence_Heights\" title=\"Lawrence Heights\">Lawrence Heights</a>\n</td></tr>\n<tr>\n<td>M6A</td>\n<td><a href=\"/wiki/North_York\" title=\"North York\">North York</a></td>\n<td><a href=\"/wiki/Lawrence_Manor\" title=\"Lawrence Manor\">Lawrence Manor</a>\n</td></tr>\n<tr>\n<td>M7A</td>\n<td><a href=\"/wiki/Queen%27s_Park_(Toronto)\" title=\"Queen's Park (Toronto)\">Queen's Park</a></td>\n<td>Not assigned\n</td></tr>\n<tr>\n<td>M8A</td>\n<td>Not assigned</td>\n<td>Not assigned\n</td></tr>\n<tr>\n<td>M9A</td>\n<td><a href=\"/wiki/Etobicoke\" title=\"Etobicoke\">Etobicoke</a></td>\n<td><a class=\"mw-redirect\" href=\"/wiki/Islington_Avenue\" title=\"Islington Avenue\">Islington Avenue</a>\n</td></tr>\n<tr>\n<td>M1B</td>\n<td><a href=\"/wiki/Scarborough,_Toronto\" title=\"Scarborough, Toronto\">Scarborough</a></td>\n<td><a href=\"/wiki/Rouge,_Toronto\" title=\"Rouge, Toronto\">Rouge</a>\n</td></tr>\n<tr>\n<td>M1B</td>\n<td><a href=\"/wiki/Scarborough,_Toronto\" title=\"Scarborough, Toronto\">Scarborough</a></td>\n<td><a href=\"/wiki/Malvern,_Toronto\" title=\"Malvern, Toronto\">Malvern</a>\n</td></tr>\n<tr>\n<td>M2B</td>\n<td>Not assigned</td>\n<td>Not assigned\n</td></tr>\n<tr>\n<td>M3B</td>\n<td><a href=\"/wiki/North_York\" title=\"North York\">North York</a></td>\n<td>Don Mills North\n</td></tr>\n<tr>\n<td>M4B</td>\n<td><a href=\"/wiki/East_York\" title=\"East York\">East York</a></td>\n<td><a class=\"mw-redirect\" href=\"/wiki/Woodbine_Gardens\" title=\"Woodbine Gardens\">Woodbine Gardens</a>\n</td></tr>\n<tr>\n<td>M4B</td>\n<td><a href=\"/wiki/East_York\" title=\"East York\">East York</a></td>\n<td><a class=\"mw-redirect\" href=\"/wiki/Parkview_Hill\" title=\"Parkview Hill\">Parkview Hill</a>\n</td></tr>\n<tr>\n<td>M5B</td>\n<td><a href=\"/wiki/Downtown_Toronto\" title=\"Downtown Toronto\">Downtown Toronto</a></td>\n<td><a href=\"/wiki/Ryerson\" title=\"Ryerson\">Ryerson</a>\n</td></tr>\n<tr>\n<td>M5B</td>\n<td><a href=\"/wiki/Downtown_Toronto\" title=\"Downtown Toronto\">Downtown Toronto</a></td>\n<td>Garden District\n</td></tr>\n<tr>\n<td>M6B</td>\n<td><a href=\"/wiki/North_York\" title=\"North York\">North York</a></td>\n<td><a class=\"mw-redirect\" href=\"/wiki/Glencairn,_Ontario\" title=\"Glencairn, Ontario\">Glencairn</a>\n</td></tr>\n<tr>\n<td>M7B</td>\n<td>Not assigned</td>\n<td>Not assigned\n</td></tr>\n<tr>\n<td>M8B</td>\n<td>Not assigned</td>\n<td>Not assigned\n</td></tr>\n<tr>\n<td>M9B</td>\n<td><a href=\"/wiki/Etobicoke\" title=\"Etobicoke\">Etobicoke</a></td>\n<td>Cloverdale\n</td></tr>\n<tr>\n<td>M9B</td>\n<td><a href=\"/wiki/Etobicoke\" title=\"Etobicoke\">Etobicoke</a></td>\n<td><a href=\"/wiki/Islington\" title=\"Islington\">Islington</a>\n</td></tr>\n<tr>\n<td>M9B</td>\n<td><a href=\"/wiki/Etobicoke\" title=\"Etobicoke\">Etobicoke</a></td>\n<td>Martin Grove\n</td></tr>\n<tr>\n<td>M9B</td>\n<td><a href=\"/wiki/Etobicoke\" title=\"Etobicoke\">Etobicoke</a></td>\n<td><a href=\"/wiki/Princess_Gardens\" title=\"Princess Gardens\">Princess Gardens</a>\n</td></tr>\n<tr>\n<td>M9B</td>\n<td><a href=\"/wiki/Etobicoke\" title=\"Etobicoke\">Etobicoke</a></td>\n<td><a class=\"mw-redirect\" href=\"/wiki/West_Deane_Park\" title=\"West Deane Park\">West Deane Park</a>\n</td></tr>\n<tr>\n<td>M1C</td>\n<td><a href=\"/wiki/Scarborough,_Toronto\" title=\"Scarborough, Toronto\">Scarborough</a></td>\n<td><a href=\"/wiki/Highland_Creek_(Toronto)\" title=\"Highland Creek (Toronto)\">Highland Creek</a>\n</td></tr>\n<tr>\n<td>M1C</td>\n<td><a href=\"/wiki/Scarborough,_Toronto\" title=\"Scarborough, Toronto\">Scarborough</a></td>\n<td><a class=\"mw-redirect\" href=\"/wiki/Rouge_Hill\" title=\"Rouge Hill\">Rouge Hill</a>\n</td></tr>\n<tr>\n<td>M1C</td>\n<td><a href=\"/wiki/Scarborough,_Toronto\" title=\"Scarborough, Toronto\">Scarborough</a></td>\n<td><a href=\"/wiki/Port_Union,_Toronto\" title=\"Port Union, Toronto\">Port Union</a>\n</td></tr>\n<tr>\n<td>M2C</td>\n<td>Not assigned</td>\n<td>Not assigned\n</td></tr>\n<tr>\n<td>M3C</td>\n<td><a href=\"/wiki/North_York\" title=\"North York\">North York</a></td>\n<td><a href=\"/wiki/Flemingdon_Park\" title=\"Flemingdon Park\">Flemingdon Park</a>\n</td></tr>\n<tr>\n<td>M3C</td>\n<td><a href=\"/wiki/North_York\" title=\"North York\">North York</a></td>\n<td>Don Mills South\n</td></tr>\n<tr>\n<td>M4C</td>\n<td><a href=\"/wiki/East_York\" title=\"East York\">East York</a></td>\n<td><a class=\"mw-redirect\" href=\"/wiki/Woodbine_Heights\" title=\"Woodbine Heights\">Woodbine Heights</a>\n</td></tr>\n<tr>\n<td>M5C</td>\n<td><a href=\"/wiki/Downtown_Toronto\" title=\"Downtown Toronto\">Downtown Toronto</a></td>\n<td><a href=\"/wiki/St._James_Town\" title=\"St. James Town\">St. James Town</a>\n</td></tr>\n<tr>\n<td>M6C</td>\n<td>York</td>\n<td><a class=\"mw-redirect\" href=\"/wiki/Humewood-Cedarvale\" title=\"Humewood-Cedarvale\">Humewood-Cedarvale</a>\n</td></tr>\n<tr>\n<td>M7C</td>\n<td>Not assigned</td>\n<td>Not assigned\n</td></tr>\n<tr>\n<td>M8C</td>\n<td>Not assigned</td>\n<td>Not assigned\n</td></tr>\n<tr>\n<td>M9C</td>\n<td><a href=\"/wiki/Etobicoke\" title=\"Etobicoke\">Etobicoke</a></td>\n<td>Bloordale Gardens\n</td></tr>\n<tr>\n<td>M9C</td>\n<td><a href=\"/wiki/Etobicoke\" title=\"Etobicoke\">Etobicoke</a></td>\n<td>Eringate\n</td></tr>\n<tr>\n<td>M9C</td>\n<td><a href=\"/wiki/Etobicoke\" title=\"Etobicoke\">Etobicoke</a></td>\n<td><a href=\"/wiki/Markland_Wood\" title=\"Markland Wood\">Markland Wood</a>\n</td></tr>\n<tr>\n<td>M9C</td>\n<td><a href=\"/wiki/Etobicoke\" title=\"Etobicoke\">Etobicoke</a></td>\n<td>Old Burnhamthorpe\n</td></tr>\n<tr>\n<td>M1E</td>\n<td><a href=\"/wiki/Scarborough,_Toronto\" title=\"Scarborough, Toronto\">Scarborough</a></td>\n<td>Guildwood\n</td></tr>\n<tr>\n<td>M1E</td>\n<td><a href=\"/wiki/Scarborough,_Toronto\" title=\"Scarborough, Toronto\">Scarborough</a></td>\n<td><a href=\"/wiki/Morningside,_Toronto\" title=\"Morningside, Toronto\">Morningside</a>\n</td></tr>\n<tr>\n<td>M1E</td>\n<td><a href=\"/wiki/Scarborough,_Toronto\" title=\"Scarborough, Toronto\">Scarborough</a></td>\n<td><a href=\"/wiki/West_Hill,_Toronto\" title=\"West Hill, Toronto\">West Hill</a>\n</td></tr>\n<tr>\n<td>M2E</td>\n<td>Not assigned</td>\n<td>Not assigned\n</td></tr>\n<tr>\n<td>M3E</td>\n<td>Not assigned</td>\n<td>Not assigned\n</td></tr>\n<tr>\n<td>M4E</td>\n<td><a href=\"/wiki/East_Toronto\" title=\"East Toronto\">East Toronto</a></td>\n<td><a href=\"/wiki/The_Beaches\" title=\"The Beaches\">The Beaches</a>\n</td></tr>\n<tr>\n<td>M5E</td>\n<td><a href=\"/wiki/Downtown_Toronto\" title=\"Downtown Toronto\">Downtown Toronto</a></td>\n<td><a href=\"/wiki/Berczy_Park\" title=\"Berczy Park\">Berczy Park</a>\n</td></tr>\n<tr>\n<td>M6E</td>\n<td>York</td>\n<td>Caledonia-Fairbanks\n</td></tr>\n<tr>\n<td>M7E</td>\n<td>Not assigned</td>\n<td>Not assigned\n</td></tr>\n<tr>\n<td>M8E</td>\n<td>Not assigned</td>\n<td>Not assigned\n</td></tr>\n<tr>\n<td>M9E</td>\n<td>Not assigned</td>\n<td>Not assigned\n</td></tr>\n<tr>\n<td>M1G</td>\n<td><a href=\"/wiki/Scarborough,_Toronto\" title=\"Scarborough, Toronto\">Scarborough</a></td>\n<td><a href=\"/wiki/Woburn,_Toronto\" title=\"Woburn, Toronto\">Woburn</a>\n</td></tr>\n<tr>\n<td>M2G</td>\n<td>Not assigned</td>\n<td>Not assigned\n</td></tr>\n<tr>\n<td>M3G</td>\n<td>Not assigned</td>\n<td>Not assigned\n</td></tr>\n<tr>\n<td>M4G</td>\n<td><a href=\"/wiki/East_York\" title=\"East York\">East York</a></td>\n<td><a href=\"/wiki/Leaside\" title=\"Leaside\">Leaside</a>\n</td></tr>\n<tr>\n<td>M5G</td>\n<td><a href=\"/wiki/Downtown_Toronto\" title=\"Downtown Toronto\">Downtown Toronto</a></td>\n<td>Central Bay Street\n</td></tr>\n<tr>\n<td>M6G</td>\n<td><a href=\"/wiki/Downtown_Toronto\" title=\"Downtown Toronto\">Downtown Toronto</a></td>\n<td>Christie\n</td></tr>\n<tr>\n<td>M7G</td>\n<td>Not assigned</td>\n<td>Not assigned\n</td></tr>\n<tr>\n<td>M8G</td>\n<td>Not assigned</td>\n<td>Not assigned\n</td></tr>\n<tr>\n<td>M9G</td>\n<td>Not assigned</td>\n<td>Not assigned\n</td></tr>\n<tr>\n<td>M1H</td>\n<td><a href=\"/wiki/Scarborough,_Toronto\" title=\"Scarborough, Toronto\">Scarborough</a></td>\n<td><a href=\"/wiki/Woburn,_Toronto\" title=\"Woburn, Toronto\">Cedarbrae</a>\n</td></tr>\n<tr>\n<td>M2H</td>\n<td><a href=\"/wiki/North_York\" title=\"North York\">North York</a></td>\n<td><a href=\"/wiki/Hillcrest_Village\" title=\"Hillcrest Village\">Hillcrest Village</a>\n</td></tr>\n<tr>\n<td>M3H</td>\n<td><a href=\"/wiki/North_York\" title=\"North York\">North York</a></td>\n<td><a href=\"/wiki/Bathurst_Manor\" title=\"Bathurst Manor\">Bathurst Manor</a>\n</td></tr>\n<tr>\n<td>M3H</td>\n<td><a href=\"/wiki/North_York\" title=\"North York\">North York</a></td>\n<td>Downsview North\n</td></tr>\n<tr>\n<td>M3H</td>\n<td><a href=\"/wiki/North_York\" title=\"North York\">North York</a></td>\n<td><a class=\"mw-redirect\" href=\"/wiki/Wilson_Heights,_Toronto\" title=\"Wilson Heights, Toronto\">Wilson Heights</a>\n</td></tr>\n<tr>\n<td>M4H</td>\n<td><a href=\"/wiki/East_York\" title=\"East York\">East York</a></td>\n<td><a href=\"/wiki/Thorncliffe_Park\" title=\"Thorncliffe Park\">Thorncliffe Park</a>\n</td></tr>\n<tr>\n<td>M5H</td>\n<td><a href=\"/wiki/Downtown_Toronto\" title=\"Downtown Toronto\">Downtown Toronto</a></td>\n<td><a href=\"/wiki/Adelaide\" title=\"Adelaide\">Adelaide</a>\n</td></tr>\n<tr>\n<td>M5H</td>\n<td><a href=\"/wiki/Downtown_Toronto\" title=\"Downtown Toronto\">Downtown Toronto</a></td>\n<td><a href=\"/wiki/King\" title=\"King\">King</a>\n</td></tr>\n<tr>\n<td>M5H</td>\n<td><a href=\"/wiki/Downtown_Toronto\" title=\"Downtown Toronto\">Downtown Toronto</a></td>\n<td>Richmond\n</td></tr>\n<tr>\n<td>M6H</td>\n<td><a href=\"/wiki/West_Toronto\" title=\"West Toronto\">West Toronto</a></td>\n<td><a class=\"mw-redirect\" href=\"/wiki/Dovercourt_Village\" title=\"Dovercourt Village\">Dovercourt Village</a>\n</td></tr>\n<tr>\n<td>M6H</td>\n<td><a href=\"/wiki/West_Toronto\" title=\"West Toronto\">West Toronto</a></td>\n<td>Dufferin\n</td></tr>\n<tr>\n<td>M7H</td>\n<td>Not assigned</td>\n<td>Not assigned\n</td></tr>\n<tr>\n<td>M8H</td>\n<td>Not assigned</td>\n<td>Not assigned\n</td></tr>\n<tr>\n<td>M9H</td>\n<td>Not assigned</td>\n<td>Not assigned\n</td></tr>\n<tr>\n<td>M1J</td>\n<td><a href=\"/wiki/Scarborough,_Toronto\" title=\"Scarborough, Toronto\">Scarborough</a></td>\n<td><a href=\"/wiki/Scarborough_Village\" title=\"Scarborough Village\">Scarborough Village</a>\n</td></tr>\n<tr>\n<td>M2J</td>\n<td><a href=\"/wiki/North_York\" title=\"North York\">North York</a></td>\n<td>Fairview\n</td></tr>\n<tr>\n<td>M2J</td>\n<td><a href=\"/wiki/North_York\" title=\"North York\">North York</a></td>\n<td><a href=\"/wiki/Henry_Farm\" title=\"Henry Farm\">Henry Farm</a>\n</td></tr>\n<tr>\n<td>M2J</td>\n<td><a href=\"/wiki/North_York\" title=\"North York\">North York</a></td>\n<td>Oriole\n</td></tr>\n<tr>\n<td>M3J</td>\n<td><a href=\"/wiki/North_York\" title=\"North York\">North York</a></td>\n<td><a class=\"mw-redirect\" href=\"/wiki/Northwood_Park\" title=\"Northwood Park\">Northwood Park</a>\n</td></tr>\n<tr>\n<td>M3J</td>\n<td><a href=\"/wiki/North_York\" title=\"North York\">North York</a></td>\n<td><a href=\"/wiki/York_University\" title=\"York University\">York University</a>\n</td></tr>\n<tr>\n<td>M4J</td>\n<td><a href=\"/wiki/East_York\" title=\"East York\">East York</a></td>\n<td><a href=\"/wiki/East_Toronto\" title=\"East Toronto\">East Toronto</a>\n</td></tr>\n<tr>\n<td>M5J</td>\n<td><a href=\"/wiki/Downtown_Toronto\" title=\"Downtown Toronto\">Downtown Toronto</a></td>\n<td>Harbourfront East\n</td></tr>\n<tr>\n<td>M5J</td>\n<td><a href=\"/wiki/Downtown_Toronto\" title=\"Downtown Toronto\">Downtown Toronto</a></td>\n<td><a href=\"/wiki/Toronto_Islands\" title=\"Toronto Islands\">Toronto Islands</a>\n</td></tr>\n<tr>\n<td>M5J</td>\n<td><a href=\"/wiki/Downtown_Toronto\" title=\"Downtown Toronto\">Downtown Toronto</a></td>\n<td><a href=\"/wiki/Union_Station_(Toronto)\" title=\"Union Station (Toronto)\">Union Station</a>\n</td></tr>\n<tr>\n<td>M6J</td>\n<td><a href=\"/wiki/West_Toronto\" title=\"West Toronto\">West Toronto</a></td>\n<td><a href=\"/wiki/Little_Portugal,_Toronto\" title=\"Little Portugal, Toronto\">Little Portugal</a>\n</td></tr>\n<tr>\n<td>M6J</td>\n<td><a href=\"/wiki/West_Toronto\" title=\"West Toronto\">West Toronto</a></td>\n<td><a href=\"/wiki/Trinity%E2%80%93Bellwoods\" title=\"Trinity\u2013Bellwoods\">Trinity</a>\n</td></tr>\n<tr>\n<td>M7J</td>\n<td>Not assigned</td>\n<td>Not assigned\n</td></tr>\n<tr>\n<td>M8J</td>\n<td>Not assigned</td>\n<td>Not assigned\n</td></tr>\n<tr>\n<td>M9J</td>\n<td>Not assigned</td>\n<td>Not assigned\n</td></tr>\n<tr>\n<td>M1K</td>\n<td><a href=\"/wiki/Scarborough,_Toronto\" title=\"Scarborough, Toronto\">Scarborough</a></td>\n<td>East Birchmount Park\n</td></tr>\n<tr>\n<td>M1K</td>\n<td><a href=\"/wiki/Scarborough,_Toronto\" title=\"Scarborough, Toronto\">Scarborough</a></td>\n<td><a href=\"/wiki/Ionview\" title=\"Ionview\">Ionview</a>\n</td></tr>\n<tr>\n<td>M1K</td>\n<td><a href=\"/wiki/Scarborough,_Toronto\" title=\"Scarborough, Toronto\">Scarborough</a></td>\n<td><a class=\"mw-redirect\" href=\"/wiki/Kennedy_Park,_Toronto\" title=\"Kennedy Park, Toronto\">Kennedy Park</a>\n</td></tr>\n<tr>\n<td>M2K</td>\n<td><a href=\"/wiki/North_York\" title=\"North York\">North York</a></td>\n<td><a href=\"/wiki/Bayview_Village\" title=\"Bayview Village\">Bayview Village</a>\n</td></tr>\n<tr>\n<td>M3K</td>\n<td><a href=\"/wiki/North_York\" title=\"North York\">North York</a></td>\n<td><a href=\"/wiki/CFB_Toronto\" title=\"CFB Toronto\">CFB Toronto</a>\n</td></tr>\n<tr>\n<td>M3K</td>\n<td><a href=\"/wiki/North_York\" title=\"North York\">North York</a></td>\n<td>Downsview East\n</td></tr>\n<tr>\n<td>M4K</td>\n<td><a href=\"/wiki/East_Toronto\" title=\"East Toronto\">East Toronto</a></td>\n<td>The Danforth West\n</td></tr>\n<tr>\n<td>M4K</td>\n<td><a href=\"/wiki/East_Toronto\" title=\"East Toronto\">East Toronto</a></td>\n<td><a href=\"/wiki/Riverdale,_Toronto\" title=\"Riverdale, Toronto\">Riverdale</a>\n</td></tr>\n<tr>\n<td>M5K</td>\n<td><a href=\"/wiki/Downtown_Toronto\" title=\"Downtown Toronto\">Downtown Toronto</a></td>\n<td><a href=\"/wiki/Design_Exchange\" title=\"Design Exchange\">Design Exchange</a>\n</td></tr>\n<tr>\n<td>M5K</td>\n<td><a href=\"/wiki/Downtown_Toronto\" title=\"Downtown Toronto\">Downtown Toronto</a></td>\n<td><a class=\"mw-redirect\" href=\"/wiki/Toronto_Dominion_Centre\" title=\"Toronto Dominion Centre\">Toronto Dominion Centre</a>\n</td></tr>\n<tr>\n<td>M6K</td>\n<td><a href=\"/wiki/West_Toronto\" title=\"West Toronto\">West Toronto</a></td>\n<td>Brockton\n</td></tr>\n<tr>\n<td>M6K</td>\n<td><a href=\"/wiki/West_Toronto\" title=\"West Toronto\">West Toronto</a></td>\n<td><a href=\"/wiki/Exhibition_Place\" title=\"Exhibition Place\">Exhibition Place</a>\n</td></tr>\n<tr>\n<td>M6K</td>\n<td><a href=\"/wiki/West_Toronto\" title=\"West Toronto\">West Toronto</a></td>\n<td><a class=\"mw-redirect\" href=\"/wiki/Parkdale_Village\" title=\"Parkdale Village\">Parkdale Village</a>\n</td></tr>\n<tr>\n<td>M7K</td>\n<td>Not assigned</td>\n<td>Not assigned\n</td></tr>\n<tr>\n<td>M8K</td>\n<td>Not assigned</td>\n<td>Not assigned\n</td></tr>\n<tr>\n<td>M9K</td>\n<td>Not assigned</td>\n<td>Not assigned\n</td></tr>\n<tr>\n<td>M1L</td>\n<td><a href=\"/wiki/Scarborough,_Toronto\" title=\"Scarborough, Toronto\">Scarborough</a></td>\n<td><a href=\"/wiki/Clairlea\" title=\"Clairlea\">Clairlea</a>\n</td></tr>\n<tr>\n<td>M1L</td>\n<td><a href=\"/wiki/Scarborough,_Toronto\" title=\"Scarborough, Toronto\">Scarborough</a></td>\n<td><a href=\"/wiki/Golden_Mile,_Toronto\" title=\"Golden Mile, Toronto\">Golden Mile</a>\n</td></tr>\n<tr>\n<td>M1L</td>\n<td><a href=\"/wiki/Scarborough,_Toronto\" title=\"Scarborough, Toronto\">Scarborough</a></td>\n<td><a href=\"/wiki/Oakridge,_Toronto\" title=\"Oakridge, Toronto\">Oakridge</a>\n</td></tr>\n<tr>\n<td>M2L</td>\n<td><a href=\"/wiki/North_York\" title=\"North York\">North York</a></td>\n<td><a class=\"mw-redirect\" href=\"/wiki/Silver_Hills\" title=\"Silver Hills\">Silver Hills</a>\n</td></tr>\n<tr>\n<td>M2L</td>\n<td><a href=\"/wiki/North_York\" title=\"North York\">North York</a></td>\n<td><a href=\"/wiki/York_Mills\" title=\"York Mills\">York Mills</a>\n</td></tr>\n<tr>\n<td>M3L</td>\n<td><a href=\"/wiki/North_York\" title=\"North York\">North York</a></td>\n<td><a href=\"/wiki/Downsview\" title=\"Downsview\">Downsview West</a>\n</td></tr>\n<tr>\n<td>M4L</td>\n<td><a href=\"/wiki/East_Toronto\" title=\"East Toronto\">East Toronto</a></td>\n<td>The Beaches West\n</td></tr>\n<tr>\n<td>M4L</td>\n<td><a href=\"/wiki/East_Toronto\" title=\"East Toronto\">East Toronto</a></td>\n<td><a class=\"mw-redirect\" href=\"/wiki/India_Bazaar\" title=\"India Bazaar\">India Bazaar</a>\n</td></tr>\n<tr>\n<td>M5L</td>\n<td><a href=\"/wiki/Downtown_Toronto\" title=\"Downtown Toronto\">Downtown Toronto</a></td>\n<td><a href=\"/wiki/Commerce_Court\" title=\"Commerce Court\">Commerce Court</a>\n</td></tr>\n<tr>\n<td>M5L</td>\n<td><a href=\"/wiki/Downtown_Toronto\" title=\"Downtown Toronto\">Downtown Toronto</a></td>\n<td>Victoria Hotel\n</td></tr>\n<tr>\n<td>M6L</td>\n<td><a href=\"/wiki/North_York\" title=\"North York\">North York</a></td>\n<td><a class=\"mw-redirect\" href=\"/wiki/Maple_Leaf_Park\" title=\"Maple Leaf Park\">Maple Leaf Park</a>\n</td></tr>\n<tr>\n<td>M6L</td>\n<td><a href=\"/wiki/North_York\" title=\"North York\">North York</a></td>\n<td>North Park\n</td></tr>\n<tr>\n<td>M6L</td>\n<td><a href=\"/wiki/North_York\" title=\"North York\">North York</a></td>\n<td>Upwood Park\n</td></tr>\n<tr>\n<td>M7L</td>\n<td>Not assigned</td>\n<td>Not assigned\n</td></tr>\n<tr>\n<td>M8L</td>\n<td>Not assigned</td>\n<td>Not assigned\n</td></tr>\n<tr>\n<td>M9L</td>\n<td><a href=\"/wiki/North_York\" title=\"North York\">North York</a></td>\n<td><a href=\"/wiki/Humber_Summit\" title=\"Humber Summit\">Humber Summit</a>\n</td></tr>\n<tr>\n<td>M1M</td>\n<td><a href=\"/wiki/Scarborough,_Toronto\" title=\"Scarborough, Toronto\">Scarborough</a></td>\n<td><a href=\"/wiki/Cliffcrest\" title=\"Cliffcrest\">Cliffcrest</a>\n</td></tr>\n<tr>\n<td>M1M</td>\n<td><a href=\"/wiki/Scarborough,_Toronto\" title=\"Scarborough, Toronto\">Scarborough</a></td>\n<td><a href=\"/wiki/Cliffside,_Toronto\" title=\"Cliffside, Toronto\">Cliffside</a>\n</td></tr>\n<tr>\n<td>M1M</td>\n<td><a href=\"/wiki/Scarborough,_Toronto\" title=\"Scarborough, Toronto\">Scarborough</a></td>\n<td>Scarborough Village West\n</td></tr>\n<tr>\n<td>M2M</td>\n<td><a href=\"/wiki/North_York\" title=\"North York\">North York</a></td>\n<td><a href=\"/wiki/Newtonbrook\" title=\"Newtonbrook\">Newtonbrook</a>\n</td></tr>\n<tr>\n<td>M2M</td>\n<td><a href=\"/wiki/North_York\" title=\"North York\">North York</a></td>\n<td><a href=\"/wiki/Willowdale,_Toronto\" title=\"Willowdale, Toronto\">Willowdale</a>\n</td></tr>\n<tr>\n<td>M3M</td>\n<td><a href=\"/wiki/North_York\" title=\"North York\">North York</a></td>\n<td>Downsview Central\n</td></tr>\n<tr>\n<td>M4M</td>\n<td><a href=\"/wiki/East_Toronto\" title=\"East Toronto\">East Toronto</a></td>\n<td>Studio District\n</td></tr>\n<tr>\n<td>M5M</td>\n<td><a href=\"/wiki/North_York\" title=\"North York\">North York</a></td>\n<td><a href=\"/wiki/Bedford_Park,_Toronto\" title=\"Bedford Park, Toronto\">Bedford Park</a>\n</td></tr>\n<tr>\n<td>M5M</td>\n<td><a href=\"/wiki/North_York\" title=\"North York\">North York</a></td>\n<td>Lawrence Manor East\n</td></tr>\n<tr>\n<td>M6M</td>\n<td><a href=\"/wiki/York\" title=\"York\">York</a></td>\n<td>Del Ray\n</td></tr>\n<tr>\n<td>M6M</td>\n<td><a href=\"/wiki/York\" title=\"York\">York</a></td>\n<td><a class=\"mw-redirect\" href=\"/wiki/Keelesdale\" title=\"Keelesdale\">Keelesdale</a>\n</td></tr>\n<tr>\n<td>M6M</td>\n<td><a href=\"/wiki/York\" title=\"York\">York</a></td>\n<td><a href=\"/wiki/Mount_Dennis\" title=\"Mount Dennis\">Mount Dennis</a>\n</td></tr>\n<tr>\n<td>M6M</td>\n<td><a href=\"/wiki/York\" title=\"York\">York</a></td>\n<td><a href=\"/wiki/Silverthorn,_Toronto\" title=\"Silverthorn, Toronto\">Silverthorn</a>\n</td></tr>\n<tr>\n<td>M7M</td>\n<td>Not assigned</td>\n<td>Not assigned\n</td></tr>\n<tr>\n<td>M8M</td>\n<td>Not assigned</td>\n<td>Not assigned\n</td></tr>\n<tr>\n<td>M9M</td>\n<td><a href=\"/wiki/North_York\" title=\"North York\">North York</a></td>\n<td><a class=\"mw-redirect\" href=\"/wiki/Emery,_Toronto\" title=\"Emery, Toronto\">Emery</a>\n</td></tr>\n<tr>\n<td>M9M</td>\n<td><a href=\"/wiki/North_York\" title=\"North York\">North York</a></td>\n<td><a class=\"mw-redirect\" href=\"/wiki/Humberlea\" title=\"Humberlea\">Humberlea</a>\n</td></tr>\n<tr>\n<td>M1N</td>\n<td><a href=\"/wiki/Scarborough,_Toronto\" title=\"Scarborough, Toronto\">Scarborough</a></td>\n<td><a href=\"/wiki/Birch_Cliff\" title=\"Birch Cliff\">Birch Cliff</a>\n</td></tr>\n<tr>\n<td>M1N</td>\n<td><a href=\"/wiki/Scarborough,_Toronto\" title=\"Scarborough, Toronto\">Scarborough</a></td>\n<td>Cliffside West\n</td></tr>\n<tr>\n<td>M2N</td>\n<td><a href=\"/wiki/North_York\" title=\"North York\">North York</a></td>\n<td>Willowdale South\n</td></tr>\n<tr>\n<td>M3N</td>\n<td><a href=\"/wiki/North_York\" title=\"North York\">North York</a></td>\n<td>Downsview Northwest\n</td></tr>\n<tr>\n<td>M4N</td>\n<td><a class=\"mw-redirect\" href=\"/wiki/Central_Toronto\" title=\"Central Toronto\">Central Toronto</a></td>\n<td><a href=\"/wiki/Lawrence_Park,_Toronto\" title=\"Lawrence Park, Toronto\">Lawrence Park</a>\n</td></tr>\n<tr>\n<td>M5N</td>\n<td><a class=\"mw-redirect\" href=\"/wiki/Central_Toronto\" title=\"Central Toronto\">Central Toronto</a></td>\n<td>Roselawn\n</td></tr>\n<tr>\n<td>M6N</td>\n<td><a href=\"/wiki/York\" title=\"York\">York</a></td>\n<td>The Junction North\n</td></tr>\n<tr>\n<td>M6N</td>\n<td><a href=\"/wiki/York\" title=\"York\">York</a></td>\n<td>Runnymede\n</td></tr>\n<tr>\n<td>M7N</td>\n<td>Not assigned</td>\n<td>Not assigned\n</td></tr>\n<tr>\n<td>M8N</td>\n<td>Not assigned</td>\n<td>Not assigned\n</td></tr>\n<tr>\n<td>M9N</td>\n<td><a href=\"/wiki/York\" title=\"York\">York</a></td>\n<td><a href=\"/wiki/Weston,_Toronto\" title=\"Weston, Toronto\">Weston</a>\n</td></tr>\n<tr>\n<td>M1P</td>\n<td><a href=\"/wiki/Scarborough,_Toronto\" title=\"Scarborough, Toronto\">Scarborough</a></td>\n<td><a href=\"/wiki/Dorset_Park\" title=\"Dorset Park\">Dorset Park</a>\n</td></tr>\n<tr>\n<td>M1P</td>\n<td><a href=\"/wiki/Scarborough,_Toronto\" title=\"Scarborough, Toronto\">Scarborough</a></td>\n<td><a href=\"/wiki/Scarborough_Town_Centre\" title=\"Scarborough Town Centre\">Scarborough Town Centre</a>\n</td></tr>\n<tr>\n<td>M1P</td>\n<td><a href=\"/wiki/Scarborough,_Toronto\" title=\"Scarborough, Toronto\">Scarborough</a></td>\n<td><a class=\"mw-redirect\" href=\"/wiki/Wexford_Heights\" title=\"Wexford Heights\">Wexford Heights</a>\n</td></tr>\n<tr>\n<td>M2P</td>\n<td><a href=\"/wiki/North_York\" title=\"North York\">North York</a></td>\n<td>York Mills West\n</td></tr>\n<tr>\n<td>M3P</td>\n<td>Not assigned</td>\n<td>Not assigned\n</td></tr>\n<tr>\n<td>M4P</td>\n<td><a class=\"mw-redirect\" href=\"/wiki/Central_Toronto\" title=\"Central Toronto\">Central Toronto</a></td>\n<td>Davisville North\n</td></tr>\n<tr>\n<td>M5P</td>\n<td><a class=\"mw-redirect\" href=\"/wiki/Central_Toronto\" title=\"Central Toronto\">Central Toronto</a></td>\n<td><a class=\"mw-redirect\" href=\"/wiki/Forest_Hill_North\" title=\"Forest Hill North\">Forest Hill North</a>\n</td></tr>\n<tr>\n<td>M5P</td>\n<td><a class=\"mw-redirect\" href=\"/wiki/Central_Toronto\" title=\"Central Toronto\">Central Toronto</a></td>\n<td>Forest Hill West\n</td></tr>\n<tr>\n<td>M6P</td>\n<td><a href=\"/wiki/West_Toronto\" title=\"West Toronto\">West Toronto</a></td>\n<td><a href=\"/wiki/High_Park\" title=\"High Park\">High Park</a>\n</td></tr>\n<tr>\n<td>M6P</td>\n<td><a href=\"/wiki/West_Toronto\" title=\"West Toronto\">West Toronto</a></td>\n<td>The Junction South\n</td></tr>\n<tr>\n<td>M7P</td>\n<td>Not assigned</td>\n<td>Not assigned\n</td></tr>\n<tr>\n<td>M8P</td>\n<td>Not assigned</td>\n<td>Not assigned\n</td></tr>\n<tr>\n<td>M9P</td>\n<td><a href=\"/wiki/Etobicoke\" title=\"Etobicoke\">Etobicoke</a></td>\n<td><a class=\"mw-redirect\" href=\"/wiki/Westmount\" title=\"Westmount\">Westmount</a>\n</td></tr>\n<tr>\n<td>M1R</td>\n<td><a href=\"/wiki/Scarborough,_Toronto\" title=\"Scarborough, Toronto\">Scarborough</a></td>\n<td><a href=\"/wiki/Maryvale,_Toronto\" title=\"Maryvale, Toronto\">Maryvale</a>\n</td></tr>\n<tr>\n<td>M1R</td>\n<td><a href=\"/wiki/Scarborough,_Toronto\" title=\"Scarborough, Toronto\">Scarborough</a></td>\n<td><a href=\"/wiki/Wexford\" title=\"Wexford\">Wexford</a>\n</td></tr>\n<tr>\n<td>M2R</td>\n<td><a href=\"/wiki/North_York\" title=\"North York\">North York</a></td>\n<td><a class=\"mw-redirect\" href=\"/wiki/Willowdale_West\" title=\"Willowdale West\">Willowdale West</a>\n</td></tr>\n<tr>\n<td>M3R</td>\n<td>Not assigned</td>\n<td>Not assigned\n</td></tr>\n<tr>\n<td>M4R</td>\n<td><a class=\"mw-redirect\" href=\"/wiki/Central_Toronto\" title=\"Central Toronto\">Central Toronto</a></td>\n<td>North Toronto West\n</td></tr>\n<tr>\n<td>M5R</td>\n<td><a class=\"mw-redirect\" href=\"/wiki/Central_Toronto\" title=\"Central Toronto\">Central Toronto</a></td>\n<td><a href=\"/wiki/The_Annex\" title=\"The Annex\">The Annex</a>\n</td></tr>\n<tr>\n<td>M5R</td>\n<td><a class=\"mw-redirect\" href=\"/wiki/Central_Toronto\" title=\"Central Toronto\">Central Toronto</a></td>\n<td>North Midtown\n</td></tr>\n<tr>\n<td>M5R</td>\n<td><a class=\"mw-redirect\" href=\"/wiki/Central_Toronto\" title=\"Central Toronto\">Central Toronto</a></td>\n<td><a href=\"/wiki/Yorkville,_Toronto\" title=\"Yorkville, Toronto\">Yorkville</a>\n</td></tr>\n<tr>\n<td>M6R</td>\n<td><a href=\"/wiki/West_Toronto\" title=\"West Toronto\">West Toronto</a></td>\n<td><a href=\"/wiki/Parkdale,_Toronto\" title=\"Parkdale, Toronto\">Parkdale</a>\n</td></tr>\n<tr>\n<td>M6R</td>\n<td><a href=\"/wiki/West_Toronto\" title=\"West Toronto\">West Toronto</a></td>\n<td><a href=\"/wiki/Roncesvalles\" title=\"Roncesvalles\">Roncesvalles</a>\n</td></tr>\n<tr>\n<td>M7R</td>\n<td>Mississauga</td>\n<td>Canada Post Gateway Processing Centre\n</td></tr>\n<tr>\n<td>M8R</td>\n<td>Not assigned</td>\n<td>Not assigned\n</td></tr>\n<tr>\n<td>M9R</td>\n<td><a href=\"/wiki/Etobicoke\" title=\"Etobicoke\">Etobicoke</a></td>\n<td><a href=\"/wiki/Kingsview_Village\" title=\"Kingsview Village\">Kingsview Village</a>\n</td></tr>\n<tr>\n<td>M9R</td>\n<td><a href=\"/wiki/Etobicoke\" title=\"Etobicoke\">Etobicoke</a></td>\n<td>Martin Grove Gardens\n</td></tr>\n<tr>\n<td>M9R</td>\n<td><a href=\"/wiki/Etobicoke\" title=\"Etobicoke\">Etobicoke</a></td>\n<td>Richview Gardens\n</td></tr>\n<tr>\n<td>M9R</td>\n<td><a href=\"/wiki/Etobicoke\" title=\"Etobicoke\">Etobicoke</a></td>\n<td>St. Phillips\n</td></tr>\n<tr>\n<td>M1S</td>\n<td><a href=\"/wiki/Scarborough,_Toronto\" title=\"Scarborough, Toronto\">Scarborough</a></td>\n<td><a href=\"/wiki/Agincourt,_Toronto\" title=\"Agincourt, Toronto\">Agincourt</a>\n</td></tr>\n<tr>\n<td>M2S</td>\n<td>Not assigned</td>\n<td>Not assigned\n</td></tr>\n<tr>\n<td>M3S</td>\n<td>Not assigned</td>\n<td>Not assigned\n</td></tr>\n<tr>\n<td>M4S</td>\n<td><a class=\"mw-redirect\" href=\"/wiki/Central_Toronto\" title=\"Central Toronto\">Central Toronto</a></td>\n<td>Davisville\n</td></tr>\n<tr>\n<td>M5S</td>\n<td><a href=\"/wiki/Downtown_Toronto\" title=\"Downtown Toronto\">Downtown Toronto</a></td>\n<td>Harbord\n</td></tr>\n<tr>\n<td>M5S</td>\n<td><a href=\"/wiki/Downtown_Toronto\" title=\"Downtown Toronto\">Downtown Toronto</a></td>\n<td><a href=\"/wiki/University_of_Toronto\" title=\"University of Toronto\">University of Toronto</a>\n</td></tr>\n<tr>\n<td>M6S</td>\n<td><a href=\"/wiki/West_Toronto\" title=\"West Toronto\">West Toronto</a></td>\n<td><a href=\"/wiki/Runnymede\" title=\"Runnymede\">Runnymede</a>\n</td></tr>\n<tr>\n<td>M6S</td>\n<td><a href=\"/wiki/West_Toronto\" title=\"West Toronto\">West Toronto</a></td>\n<td><a href=\"/wiki/Swansea\" title=\"Swansea\">Swansea</a>\n</td></tr>\n<tr>\n<td>M7S</td>\n<td>Not assigned</td>\n<td>Not assigned\n</td></tr>\n<tr>\n<td>M8S</td>\n<td>Not assigned</td>\n<td>Not assigned\n</td></tr>\n<tr>\n<td>M9S</td>\n<td>Not assigned</td>\n<td>Not assigned\n</td></tr>\n<tr>\n<td>M1T</td>\n<td><a href=\"/wiki/Scarborough,_Toronto\" title=\"Scarborough, Toronto\">Scarborough</a></td>\n<td>Clarks Corners\n</td></tr>\n<tr>\n<td>M1T</td>\n<td><a href=\"/wiki/Scarborough,_Toronto\" title=\"Scarborough, Toronto\">Scarborough</a></td>\n<td>Sullivan\n</td></tr>\n<tr>\n<td>M1T</td>\n<td><a href=\"/wiki/Scarborough,_Toronto\" title=\"Scarborough, Toronto\">Scarborough</a></td>\n<td><a href=\"/wiki/Tam_O%27Shanter_%E2%80%93_Sullivan\" title=\"Tam O'Shanter \u2013 Sullivan\">Tam O'Shanter</a>\n</td></tr>\n<tr>\n<td>M2T</td>\n<td>Not assigned</td>\n<td>Not assigned\n</td></tr>\n<tr>\n<td>M3T</td>\n<td>Not assigned</td>\n<td>Not assigned\n</td></tr>\n<tr>\n<td>M4T</td>\n<td><a class=\"mw-redirect\" href=\"/wiki/Central_Toronto\" title=\"Central Toronto\">Central Toronto</a></td>\n<td><a href=\"/wiki/Moore_Park,_Toronto\" title=\"Moore Park, Toronto\">Moore Park</a>\n</td></tr>\n<tr>\n<td>M4T</td>\n<td><a class=\"mw-redirect\" href=\"/wiki/Central_Toronto\" title=\"Central Toronto\">Central Toronto</a></td>\n<td>Summerhill East\n</td></tr>\n<tr>\n<td>M5T</td>\n<td><a href=\"/wiki/Downtown_Toronto\" title=\"Downtown Toronto\">Downtown Toronto</a></td>\n<td><a href=\"/wiki/Chinatown\" title=\"Chinatown\">Chinatown</a>\n</td></tr>\n<tr>\n<td>M5T</td>\n<td><a href=\"/wiki/Downtown_Toronto\" title=\"Downtown Toronto\">Downtown Toronto</a></td>\n<td><a href=\"/wiki/Grange_Park_(Toronto)\" title=\"Grange Park (Toronto)\">Grange Park</a>\n</td></tr>\n<tr>\n<td>M5T</td>\n<td><a href=\"/wiki/Downtown_Toronto\" title=\"Downtown Toronto\">Downtown Toronto</a></td>\n<td><a href=\"/wiki/Kensington_Market\" title=\"Kensington Market\">Kensington Market</a>\n</td></tr>\n<tr>\n<td>M6T</td>\n<td>Not assigned</td>\n<td>Not assigned\n</td></tr>\n<tr>\n<td>M7T</td>\n<td>Not assigned</td>\n<td>Not assigned\n</td></tr>\n<tr>\n<td>M8T</td>\n<td>Not assigned</td>\n<td>Not assigned\n</td></tr>\n<tr>\n<td>M9T</td>\n<td>Not assigned</td>\n<td>Not assigned\n</td></tr>\n<tr>\n<td>M1V</td>\n<td><a href=\"/wiki/Scarborough,_Toronto\" title=\"Scarborough, Toronto\">Scarborough</a></td>\n<td><a class=\"mw-redirect\" href=\"/wiki/Agincourt_North\" title=\"Agincourt North\">Agincourt North</a>\n</td></tr>\n<tr>\n<td>M1V</td>\n<td><a href=\"/wiki/Scarborough,_Toronto\" title=\"Scarborough, Toronto\">Scarborough</a></td>\n<td>L'Amoreaux East\n</td></tr>\n<tr>\n<td>M1V</td>\n<td><a href=\"/wiki/Scarborough,_Toronto\" title=\"Scarborough, Toronto\">Scarborough</a></td>\n<td><a href=\"/wiki/Milliken,_Ontario\" title=\"Milliken, Ontario\">Milliken</a>\n</td></tr>\n<tr>\n<td>M1V</td>\n<td><a href=\"/wiki/Scarborough,_Toronto\" title=\"Scarborough, Toronto\">Scarborough</a></td>\n<td>Steeles East\n</td></tr>\n<tr>\n<td>M2V</td>\n<td>Not assigned</td>\n<td>Not assigned\n</td></tr>\n<tr>\n<td>M3V</td>\n<td>Not assigned</td>\n<td>Not assigned\n</td></tr>\n<tr>\n<td>M4V</td>\n<td><a class=\"mw-redirect\" href=\"/wiki/Central_Toronto\" title=\"Central Toronto\">Central Toronto</a></td>\n<td><a href=\"/wiki/Deer_Park,_Toronto\" title=\"Deer Park, Toronto\">Deer Park</a>\n</td></tr>\n<tr>\n<td>M4V</td>\n<td><a class=\"mw-redirect\" href=\"/wiki/Central_Toronto\" title=\"Central Toronto\">Central Toronto</a></td>\n<td>Forest Hill SE\n</td></tr>\n<tr>\n<td>M4V</td>\n<td><a class=\"mw-redirect\" href=\"/wiki/Central_Toronto\" title=\"Central Toronto\">Central Toronto</a></td>\n<td><a class=\"mw-redirect\" href=\"/wiki/Rathnelly\" title=\"Rathnelly\">Rathnelly</a>\n</td></tr>\n<tr>\n<td>M4V</td>\n<td><a class=\"mw-redirect\" href=\"/wiki/Central_Toronto\" title=\"Central Toronto\">Central Toronto</a></td>\n<td><a href=\"/wiki/South_Hill,_Toronto\" title=\"South Hill, Toronto\">South Hill</a>\n</td></tr>\n<tr>\n<td>M4V</td>\n<td><a class=\"mw-redirect\" href=\"/wiki/Central_Toronto\" title=\"Central Toronto\">Central Toronto</a></td>\n<td>Summerhill West\n</td></tr>\n<tr>\n<td>M5V</td>\n<td><a href=\"/wiki/Downtown_Toronto\" title=\"Downtown Toronto\">Downtown Toronto</a></td>\n<td><a href=\"/wiki/CN_Tower\" title=\"CN Tower\">CN Tower</a>\n</td></tr>\n<tr>\n<td>M5V</td>\n<td><a href=\"/wiki/Downtown_Toronto\" title=\"Downtown Toronto\">Downtown Toronto</a></td>\n<td>Bathurst Quay\n</td></tr>\n<tr>\n<td>M5V</td>\n<td><a href=\"/wiki/Downtown_Toronto\" title=\"Downtown Toronto\">Downtown Toronto</a></td>\n<td>Island airport\n</td></tr>\n<tr>\n<td>M5V</td>\n<td><a href=\"/wiki/Downtown_Toronto\" title=\"Downtown Toronto\">Downtown Toronto</a></td>\n<td>Harbourfront West\n</td></tr>\n<tr>\n<td>M5V</td>\n<td><a href=\"/wiki/Downtown_Toronto\" title=\"Downtown Toronto\">Downtown Toronto</a></td>\n<td><a class=\"mw-redirect\" href=\"/wiki/King_and_Spadina\" title=\"King and Spadina\">King and Spadina</a>\n</td></tr>\n<tr>\n<td>M5V</td>\n<td><a href=\"/wiki/Downtown_Toronto\" title=\"Downtown Toronto\">Downtown Toronto</a></td>\n<td><a href=\"/wiki/Railway_Lands\" title=\"Railway Lands\">Railway Lands</a>\n</td></tr>\n<tr>\n<td>M5V</td>\n<td><a href=\"/wiki/Downtown_Toronto\" title=\"Downtown Toronto\">Downtown Toronto</a></td>\n<td><a class=\"mw-redirect\" href=\"/wiki/South_Niagara\" title=\"South Niagara\">South Niagara</a>\n</td></tr>\n<tr>\n<td>M6V</td>\n<td>Not assigned</td>\n<td>Not assigned\n</td></tr>\n<tr>\n<td>M7V</td>\n<td>Not assigned</td>\n<td>Not assigned\n</td></tr>\n<tr>\n<td>M8V</td>\n<td><a href=\"/wiki/Etobicoke\" title=\"Etobicoke\">Etobicoke</a></td>\n<td>Humber Bay Shores\n</td></tr>\n<tr>\n<td>M8V</td>\n<td><a href=\"/wiki/Etobicoke\" title=\"Etobicoke\">Etobicoke</a></td>\n<td>Mimico South\n</td></tr>\n<tr>\n<td>M8V</td>\n<td><a href=\"/wiki/Etobicoke\" title=\"Etobicoke\">Etobicoke</a></td>\n<td><a href=\"/wiki/New_Toronto\" title=\"New Toronto\">New Toronto</a>\n</td></tr>\n<tr>\n<td>M9V</td>\n<td><a href=\"/wiki/Etobicoke\" title=\"Etobicoke\">Etobicoke</a></td>\n<td>Albion Gardens\n</td></tr>\n<tr>\n<td>M9V</td>\n<td><a href=\"/wiki/Etobicoke\" title=\"Etobicoke\">Etobicoke</a></td>\n<td><a class=\"mw-redirect\" href=\"/wiki/Beaumond_Heights\" title=\"Beaumond Heights\">Beaumond Heights</a>\n</td></tr>\n<tr>\n<td>M9V</td>\n<td><a href=\"/wiki/Etobicoke\" title=\"Etobicoke\">Etobicoke</a></td>\n<td>Humbergate\n</td></tr>\n<tr>\n<td>M9V</td>\n<td><a href=\"/wiki/Etobicoke\" title=\"Etobicoke\">Etobicoke</a></td>\n<td><a class=\"mw-redirect\" href=\"/wiki/Mount_Olive-Silverstone-Jamestown\" title=\"Mount Olive-Silverstone-Jamestown\">Jamestown</a>\n</td></tr>\n<tr>\n<td>M9V</td>\n<td><a href=\"/wiki/Etobicoke\" title=\"Etobicoke\">Etobicoke</a></td>\n<td><a class=\"mw-redirect\" href=\"/wiki/Mount_Olive-Silverstone-Jamestown\" title=\"Mount Olive-Silverstone-Jamestown\">Mount Olive</a>\n</td></tr>\n<tr>\n<td>M9V</td>\n<td><a href=\"/wiki/Etobicoke\" title=\"Etobicoke\">Etobicoke</a></td>\n<td><a href=\"/wiki/Silverstone\" title=\"Silverstone\">Silverstone</a>\n</td></tr>\n<tr>\n<td>M9V</td>\n<td><a href=\"/wiki/Etobicoke\" title=\"Etobicoke\">Etobicoke</a></td>\n<td><a class=\"mw-redirect\" href=\"/wiki/South_Steeles\" title=\"South Steeles\">South Steeles</a>\n</td></tr>\n<tr>\n<td>M9V</td>\n<td><a href=\"/wiki/Etobicoke\" title=\"Etobicoke\">Etobicoke</a></td>\n<td><a href=\"/wiki/Thistletown\" title=\"Thistletown\">Thistletown</a>\n</td></tr>\n<tr>\n<td>M1W</td>\n<td><a href=\"/wiki/Scarborough,_Toronto\" title=\"Scarborough, Toronto\">Scarborough</a></td>\n<td>L'Amoreaux West\n</td></tr>\n<tr>\n<td>M1W</td>\n<td><a href=\"/wiki/Scarborough,_Toronto\" title=\"Scarborough, Toronto\">Scarborough</a></td>\n<td><a class=\"mw-redirect\" href=\"/wiki/Steeles_West\" title=\"Steeles West\">Steeles West</a>\n</td></tr>\n<tr>\n<td>M2W</td>\n<td>Not assigned</td>\n<td>Not assigned\n</td></tr>\n<tr>\n<td>M3W</td>\n<td>Not assigned</td>\n<td>Not assigned\n</td></tr>\n<tr>\n<td>M4W</td>\n<td><a href=\"/wiki/Downtown_Toronto\" title=\"Downtown Toronto\">Downtown Toronto</a></td>\n<td><a href=\"/wiki/Rosedale,_Toronto\" title=\"Rosedale, Toronto\">Rosedale</a>\n</td></tr>\n<tr>\n<td>M5W</td>\n<td><a href=\"/wiki/Downtown_Toronto\" title=\"Downtown Toronto\">Downtown Toronto</a></td>\n<td>Stn A PO Boxes 25 The Esplanade\n</td></tr>\n<tr>\n<td>M6W</td>\n<td>Not assigned</td>\n<td>Not assigned\n</td></tr>\n<tr>\n<td>M7W</td>\n<td>Not assigned</td>\n<td>Not assigned\n</td></tr>\n<tr>\n<td>M8W</td>\n<td><a href=\"/wiki/Etobicoke\" title=\"Etobicoke\">Etobicoke</a></td>\n<td><a href=\"/wiki/Alderwood,_Toronto\" title=\"Alderwood, Toronto\">Alderwood</a>\n</td></tr>\n<tr>\n<td>M8W</td>\n<td><a href=\"/wiki/Etobicoke\" title=\"Etobicoke\">Etobicoke</a></td>\n<td><a href=\"/wiki/Long_Branch,_Toronto\" title=\"Long Branch, Toronto\">Long Branch</a>\n</td></tr>\n<tr>\n<td>M9W</td>\n<td><a href=\"/wiki/Etobicoke\" title=\"Etobicoke\">Etobicoke</a></td>\n<td><a class=\"mw-redirect\" href=\"/wiki/Northwest\" title=\"Northwest\">Northwest</a>\n</td></tr>\n<tr>\n<td>M1X</td>\n<td><a href=\"/wiki/Scarborough,_Toronto\" title=\"Scarborough, Toronto\">Scarborough</a></td>\n<td><a class=\"mw-redirect\" href=\"/wiki/Upper_Rouge\" title=\"Upper Rouge\">Upper Rouge</a>\n</td></tr>\n<tr>\n<td>M2X</td>\n<td>Not assigned</td>\n<td>Not assigned\n</td></tr>\n<tr>\n<td>M3X</td>\n<td>Not assigned</td>\n<td>Not assigned\n</td></tr>\n<tr>\n<td>M4X</td>\n<td><a href=\"/wiki/Downtown_Toronto\" title=\"Downtown Toronto\">Downtown Toronto</a></td>\n<td><a href=\"/wiki/Cabbagetown,_Toronto\" title=\"Cabbagetown, Toronto\">Cabbagetown</a>\n</td></tr>\n<tr>\n<td>M4X</td>\n<td><a href=\"/wiki/Downtown_Toronto\" title=\"Downtown Toronto\">Downtown Toronto</a></td>\n<td><a href=\"/wiki/St._James_Town\" title=\"St. James Town\">St. James Town</a>\n</td></tr>\n<tr>\n<td>M5X</td>\n<td><a href=\"/wiki/Downtown_Toronto\" title=\"Downtown Toronto\">Downtown Toronto</a></td>\n<td><a href=\"/wiki/First_Canadian_Place\" title=\"First Canadian Place\">First Canadian Place</a>\n</td></tr>\n<tr>\n<td>M5X</td>\n<td><a href=\"/wiki/Downtown_Toronto\" title=\"Downtown Toronto\">Downtown Toronto</a></td>\n<td><a href=\"/wiki/Underground_city\" title=\"Underground city\">Underground city</a>\n</td></tr>\n<tr>\n<td>M6X</td>\n<td>Not assigned</td>\n<td>Not assigned\n</td></tr>\n<tr>\n<td>M7X</td>\n<td>Not assigned</td>\n<td>Not assigned\n</td></tr>\n<tr>\n<td>M8X</td>\n<td><a href=\"/wiki/Etobicoke\" title=\"Etobicoke\">Etobicoke</a></td>\n<td><a href=\"/wiki/The_Kingsway\" title=\"The Kingsway\">The Kingsway</a>\n</td></tr>\n<tr>\n<td>M8X</td>\n<td><a href=\"/wiki/Etobicoke\" title=\"Etobicoke\">Etobicoke</a></td>\n<td>Montgomery Road\n</td></tr>\n<tr>\n<td>M8X</td>\n<td><a href=\"/wiki/Etobicoke\" title=\"Etobicoke\">Etobicoke</a></td>\n<td>Old Mill North\n</td></tr>\n<tr>\n<td>M9X</td>\n<td>Not assigned</td>\n<td>Not assigned\n</td></tr>\n<tr>\n<td>M1Y</td>\n<td>Not assigned</td>\n<td>Not assigned\n</td></tr>\n<tr>\n<td>M2Y</td>\n<td>Not assigned</td>\n<td>Not assigned\n</td></tr>\n<tr>\n<td>M3Y</td>\n<td>Not assigned</td>\n<td>Not assigned\n</td></tr>\n<tr>\n<td>M4Y</td>\n<td><a href=\"/wiki/Downtown_Toronto\" title=\"Downtown Toronto\">Downtown Toronto</a></td>\n<td><a href=\"/wiki/Church_and_Wellesley\" title=\"Church and Wellesley\">Church and Wellesley</a>\n</td></tr>\n<tr>\n<td>M5Y</td>\n<td>Not assigned</td>\n<td>Not assigned\n</td></tr>\n<tr>\n<td>M6Y</td>\n<td>Not assigned</td>\n<td>Not assigned\n</td></tr>\n<tr>\n<td>M7Y</td>\n<td><a href=\"/wiki/East_Toronto\" title=\"East Toronto\">East Toronto</a></td>\n<td>Business Reply Mail Processing Centre 969 Eastern\n</td></tr>\n<tr>\n<td>M8Y</td>\n<td><a href=\"/wiki/Etobicoke\" title=\"Etobicoke\">Etobicoke</a></td>\n<td><a href=\"/wiki/Humber_Bay\" title=\"Humber Bay\">Humber Bay</a>\n</td></tr>\n<tr>\n<td>M8Y</td>\n<td><a href=\"/wiki/Etobicoke\" title=\"Etobicoke\">Etobicoke</a></td>\n<td><a href=\"/wiki/Kingsmills_Park\" title=\"Kingsmills Park\">King's Mill Park</a>\n</td></tr>\n<tr>\n<td>M8Y</td>\n<td><a href=\"/wiki/Etobicoke\" title=\"Etobicoke\">Etobicoke</a></td>\n<td>Kingsway Park South East\n</td></tr>\n<tr>\n<td>M8Y</td>\n<td><a href=\"/wiki/Etobicoke\" title=\"Etobicoke\">Etobicoke</a></td>\n<td><a href=\"/wiki/Mimico\" title=\"Mimico\">Mimico NE</a>\n</td></tr>\n<tr>\n<td>M8Y</td>\n<td><a href=\"/wiki/Etobicoke\" title=\"Etobicoke\">Etobicoke</a></td>\n<td><a href=\"/wiki/Old_Mill,_Toronto\" title=\"Old Mill, Toronto\">Old Mill South</a>\n</td></tr>\n<tr>\n<td>M8Y</td>\n<td><a href=\"/wiki/Etobicoke\" title=\"Etobicoke\">Etobicoke</a></td>\n<td><a href=\"/wiki/The_Queensway\" title=\"The Queensway\">The Queensway East</a>\n</td></tr>\n<tr>\n<td>M8Y</td>\n<td><a href=\"/wiki/Etobicoke\" title=\"Etobicoke\">Etobicoke</a></td>\n<td><a class=\"mw-redirect\" href=\"/wiki/Fairmont_Royal_York_Hotel\" title=\"Fairmont Royal York Hotel\">Royal York South East</a>\n</td></tr>\n<tr>\n<td>M8Y</td>\n<td><a href=\"/wiki/Etobicoke\" title=\"Etobicoke\">Etobicoke</a></td>\n<td><a class=\"mw-redirect\" href=\"/wiki/Sunnylea\" title=\"Sunnylea\">Sunnylea</a>\n</td></tr>\n<tr>\n<td>M9Y</td>\n<td>Not assigned</td>\n<td>Not assigned\n</td></tr>\n<tr>\n<td>M1Z</td>\n<td>Not assigned</td>\n<td>Not assigned\n</td></tr>\n<tr>\n<td>M2Z</td>\n<td>Not assigned</td>\n<td>Not assigned\n</td></tr>\n<tr>\n<td>M3Z</td>\n<td>Not assigned</td>\n<td>Not assigned\n</td></tr>\n<tr>\n<td>M4Z</td>\n<td>Not assigned</td>\n<td>Not assigned\n</td></tr>\n<tr>\n<td>M5Z</td>\n<td>Not assigned</td>\n<td>Not assigned\n</td></tr>\n<tr>\n<td>M6Z</td>\n<td>Not assigned</td>\n<td>Not assigned\n</td></tr>\n<tr>\n<td>M7Z</td>\n<td>Not assigned</td>\n<td>Not assigned\n</td></tr>\n<tr>\n<td>M8Z</td>\n<td><a href=\"/wiki/Etobicoke\" title=\"Etobicoke\">Etobicoke</a></td>\n<td>Kingsway Park South West\n</td></tr>\n<tr>\n<td>M8Z</td>\n<td><a href=\"/wiki/Etobicoke\" title=\"Etobicoke\">Etobicoke</a></td>\n<td><a href=\"/wiki/Mimico\" title=\"Mimico\">Mimico NW</a>\n</td></tr>\n<tr>\n<td>M8Z</td>\n<td><a href=\"/wiki/Etobicoke\" title=\"Etobicoke\">Etobicoke</a></td>\n<td><a href=\"/wiki/The_Queensway\" title=\"The Queensway\">The Queensway West</a>\n</td></tr>\n<tr>\n<td>M8Z</td>\n<td><a href=\"/wiki/Etobicoke\" title=\"Etobicoke\">Etobicoke</a></td>\n<td>Royal York South West\n</td></tr>\n<tr>\n<td>M8Z</td>\n<td><a href=\"/wiki/Etobicoke\" title=\"Etobicoke\">Etobicoke</a></td>\n<td><a href=\"/wiki/Bloor\" title=\"Bloor\">South of Bloor</a>\n</td></tr>\n<tr>\n<td>M9Z</td>\n<td>Not assigned</td>\n<td>Not assigned\n</td></tr>\n</tbody>"
                    }, 
                    "output_type": "execute_result"
                }
            ], 
            "source": "# This extracts the \"tbody\" within the table where class is \"wikitable sortable\"\ntable = soup.find('table', {'class':'wikitable sortable'}).tbody\ntable"
        }, 
        {
            "execution_count": 10, 
            "cell_type": "code", 
            "metadata": {}, 
            "outputs": [
                {
                    "execution_count": 10, 
                    "metadata": {}, 
                    "data": {
                        "text/plain": "[<tr>\n <th>Postcode</th>\n <th>Borough</th>\n <th>Neighbourhood\n </th></tr>, <tr>\n <td>M1A</td>\n <td>Not assigned</td>\n <td>Not assigned\n </td></tr>, <tr>\n <td>M2A</td>\n <td>Not assigned</td>\n <td>Not assigned\n </td></tr>, <tr>\n <td>M3A</td>\n <td><a href=\"/wiki/North_York\" title=\"North York\">North York</a></td>\n <td><a href=\"/wiki/Parkwoods\" title=\"Parkwoods\">Parkwoods</a>\n </td></tr>, <tr>\n <td>M4A</td>\n <td><a href=\"/wiki/North_York\" title=\"North York\">North York</a></td>\n <td><a href=\"/wiki/Victoria_Village\" title=\"Victoria Village\">Victoria Village</a>\n </td></tr>, <tr>\n <td>M5A</td>\n <td><a href=\"/wiki/Downtown_Toronto\" title=\"Downtown Toronto\">Downtown Toronto</a></td>\n <td><a href=\"/wiki/Harbourfront_(Toronto)\" title=\"Harbourfront (Toronto)\">Harbourfront</a>\n </td></tr>, <tr>\n <td>M5A</td>\n <td><a href=\"/wiki/Downtown_Toronto\" title=\"Downtown Toronto\">Downtown Toronto</a></td>\n <td><a href=\"/wiki/Regent_Park\" title=\"Regent Park\">Regent Park</a>\n </td></tr>, <tr>\n <td>M6A</td>\n <td><a href=\"/wiki/North_York\" title=\"North York\">North York</a></td>\n <td><a href=\"/wiki/Lawrence_Heights\" title=\"Lawrence Heights\">Lawrence Heights</a>\n </td></tr>, <tr>\n <td>M6A</td>\n <td><a href=\"/wiki/North_York\" title=\"North York\">North York</a></td>\n <td><a href=\"/wiki/Lawrence_Manor\" title=\"Lawrence Manor\">Lawrence Manor</a>\n </td></tr>, <tr>\n <td>M7A</td>\n <td><a href=\"/wiki/Queen%27s_Park_(Toronto)\" title=\"Queen's Park (Toronto)\">Queen's Park</a></td>\n <td>Not assigned\n </td></tr>, <tr>\n <td>M8A</td>\n <td>Not assigned</td>\n <td>Not assigned\n </td></tr>, <tr>\n <td>M9A</td>\n <td><a href=\"/wiki/Etobicoke\" title=\"Etobicoke\">Etobicoke</a></td>\n <td><a class=\"mw-redirect\" href=\"/wiki/Islington_Avenue\" title=\"Islington Avenue\">Islington Avenue</a>\n </td></tr>, <tr>\n <td>M1B</td>\n <td><a href=\"/wiki/Scarborough,_Toronto\" title=\"Scarborough, Toronto\">Scarborough</a></td>\n <td><a href=\"/wiki/Rouge,_Toronto\" title=\"Rouge, Toronto\">Rouge</a>\n </td></tr>, <tr>\n <td>M1B</td>\n <td><a href=\"/wiki/Scarborough,_Toronto\" title=\"Scarborough, Toronto\">Scarborough</a></td>\n <td><a href=\"/wiki/Malvern,_Toronto\" title=\"Malvern, Toronto\">Malvern</a>\n </td></tr>, <tr>\n <td>M2B</td>\n <td>Not assigned</td>\n <td>Not assigned\n </td></tr>, <tr>\n <td>M3B</td>\n <td><a href=\"/wiki/North_York\" title=\"North York\">North York</a></td>\n <td>Don Mills North\n </td></tr>, <tr>\n <td>M4B</td>\n <td><a href=\"/wiki/East_York\" title=\"East York\">East York</a></td>\n <td><a class=\"mw-redirect\" href=\"/wiki/Woodbine_Gardens\" title=\"Woodbine Gardens\">Woodbine Gardens</a>\n </td></tr>, <tr>\n <td>M4B</td>\n <td><a href=\"/wiki/East_York\" title=\"East York\">East York</a></td>\n <td><a class=\"mw-redirect\" href=\"/wiki/Parkview_Hill\" title=\"Parkview Hill\">Parkview Hill</a>\n </td></tr>, <tr>\n <td>M5B</td>\n <td><a href=\"/wiki/Downtown_Toronto\" title=\"Downtown Toronto\">Downtown Toronto</a></td>\n <td><a href=\"/wiki/Ryerson\" title=\"Ryerson\">Ryerson</a>\n </td></tr>, <tr>\n <td>M5B</td>\n <td><a href=\"/wiki/Downtown_Toronto\" title=\"Downtown Toronto\">Downtown Toronto</a></td>\n <td>Garden District\n </td></tr>, <tr>\n <td>M6B</td>\n <td><a href=\"/wiki/North_York\" title=\"North York\">North York</a></td>\n <td><a class=\"mw-redirect\" href=\"/wiki/Glencairn,_Ontario\" title=\"Glencairn, Ontario\">Glencairn</a>\n </td></tr>, <tr>\n <td>M7B</td>\n <td>Not assigned</td>\n <td>Not assigned\n </td></tr>, <tr>\n <td>M8B</td>\n <td>Not assigned</td>\n <td>Not assigned\n </td></tr>, <tr>\n <td>M9B</td>\n <td><a href=\"/wiki/Etobicoke\" title=\"Etobicoke\">Etobicoke</a></td>\n <td>Cloverdale\n </td></tr>, <tr>\n <td>M9B</td>\n <td><a href=\"/wiki/Etobicoke\" title=\"Etobicoke\">Etobicoke</a></td>\n <td><a href=\"/wiki/Islington\" title=\"Islington\">Islington</a>\n </td></tr>, <tr>\n <td>M9B</td>\n <td><a href=\"/wiki/Etobicoke\" title=\"Etobicoke\">Etobicoke</a></td>\n <td>Martin Grove\n </td></tr>, <tr>\n <td>M9B</td>\n <td><a href=\"/wiki/Etobicoke\" title=\"Etobicoke\">Etobicoke</a></td>\n <td><a href=\"/wiki/Princess_Gardens\" title=\"Princess Gardens\">Princess Gardens</a>\n </td></tr>, <tr>\n <td>M9B</td>\n <td><a href=\"/wiki/Etobicoke\" title=\"Etobicoke\">Etobicoke</a></td>\n <td><a class=\"mw-redirect\" href=\"/wiki/West_Deane_Park\" title=\"West Deane Park\">West Deane Park</a>\n </td></tr>, <tr>\n <td>M1C</td>\n <td><a href=\"/wiki/Scarborough,_Toronto\" title=\"Scarborough, Toronto\">Scarborough</a></td>\n <td><a href=\"/wiki/Highland_Creek_(Toronto)\" title=\"Highland Creek (Toronto)\">Highland Creek</a>\n </td></tr>, <tr>\n <td>M1C</td>\n <td><a href=\"/wiki/Scarborough,_Toronto\" title=\"Scarborough, Toronto\">Scarborough</a></td>\n <td><a class=\"mw-redirect\" href=\"/wiki/Rouge_Hill\" title=\"Rouge Hill\">Rouge Hill</a>\n </td></tr>, <tr>\n <td>M1C</td>\n <td><a href=\"/wiki/Scarborough,_Toronto\" title=\"Scarborough, Toronto\">Scarborough</a></td>\n <td><a href=\"/wiki/Port_Union,_Toronto\" title=\"Port Union, Toronto\">Port Union</a>\n </td></tr>, <tr>\n <td>M2C</td>\n <td>Not assigned</td>\n <td>Not assigned\n </td></tr>, <tr>\n <td>M3C</td>\n <td><a href=\"/wiki/North_York\" title=\"North York\">North York</a></td>\n <td><a href=\"/wiki/Flemingdon_Park\" title=\"Flemingdon Park\">Flemingdon Park</a>\n </td></tr>, <tr>\n <td>M3C</td>\n <td><a href=\"/wiki/North_York\" title=\"North York\">North York</a></td>\n <td>Don Mills South\n </td></tr>, <tr>\n <td>M4C</td>\n <td><a href=\"/wiki/East_York\" title=\"East York\">East York</a></td>\n <td><a class=\"mw-redirect\" href=\"/wiki/Woodbine_Heights\" title=\"Woodbine Heights\">Woodbine Heights</a>\n </td></tr>, <tr>\n <td>M5C</td>\n <td><a href=\"/wiki/Downtown_Toronto\" title=\"Downtown Toronto\">Downtown Toronto</a></td>\n <td><a href=\"/wiki/St._James_Town\" title=\"St. James Town\">St. James Town</a>\n </td></tr>, <tr>\n <td>M6C</td>\n <td>York</td>\n <td><a class=\"mw-redirect\" href=\"/wiki/Humewood-Cedarvale\" title=\"Humewood-Cedarvale\">Humewood-Cedarvale</a>\n </td></tr>, <tr>\n <td>M7C</td>\n <td>Not assigned</td>\n <td>Not assigned\n </td></tr>, <tr>\n <td>M8C</td>\n <td>Not assigned</td>\n <td>Not assigned\n </td></tr>, <tr>\n <td>M9C</td>\n <td><a href=\"/wiki/Etobicoke\" title=\"Etobicoke\">Etobicoke</a></td>\n <td>Bloordale Gardens\n </td></tr>, <tr>\n <td>M9C</td>\n <td><a href=\"/wiki/Etobicoke\" title=\"Etobicoke\">Etobicoke</a></td>\n <td>Eringate\n </td></tr>, <tr>\n <td>M9C</td>\n <td><a href=\"/wiki/Etobicoke\" title=\"Etobicoke\">Etobicoke</a></td>\n <td><a href=\"/wiki/Markland_Wood\" title=\"Markland Wood\">Markland Wood</a>\n </td></tr>, <tr>\n <td>M9C</td>\n <td><a href=\"/wiki/Etobicoke\" title=\"Etobicoke\">Etobicoke</a></td>\n <td>Old Burnhamthorpe\n </td></tr>, <tr>\n <td>M1E</td>\n <td><a href=\"/wiki/Scarborough,_Toronto\" title=\"Scarborough, Toronto\">Scarborough</a></td>\n <td>Guildwood\n </td></tr>, <tr>\n <td>M1E</td>\n <td><a href=\"/wiki/Scarborough,_Toronto\" title=\"Scarborough, Toronto\">Scarborough</a></td>\n <td><a href=\"/wiki/Morningside,_Toronto\" title=\"Morningside, Toronto\">Morningside</a>\n </td></tr>, <tr>\n <td>M1E</td>\n <td><a href=\"/wiki/Scarborough,_Toronto\" title=\"Scarborough, Toronto\">Scarborough</a></td>\n <td><a href=\"/wiki/West_Hill,_Toronto\" title=\"West Hill, Toronto\">West Hill</a>\n </td></tr>, <tr>\n <td>M2E</td>\n <td>Not assigned</td>\n <td>Not assigned\n </td></tr>, <tr>\n <td>M3E</td>\n <td>Not assigned</td>\n <td>Not assigned\n </td></tr>, <tr>\n <td>M4E</td>\n <td><a href=\"/wiki/East_Toronto\" title=\"East Toronto\">East Toronto</a></td>\n <td><a href=\"/wiki/The_Beaches\" title=\"The Beaches\">The Beaches</a>\n </td></tr>, <tr>\n <td>M5E</td>\n <td><a href=\"/wiki/Downtown_Toronto\" title=\"Downtown Toronto\">Downtown Toronto</a></td>\n <td><a href=\"/wiki/Berczy_Park\" title=\"Berczy Park\">Berczy Park</a>\n </td></tr>, <tr>\n <td>M6E</td>\n <td>York</td>\n <td>Caledonia-Fairbanks\n </td></tr>, <tr>\n <td>M7E</td>\n <td>Not assigned</td>\n <td>Not assigned\n </td></tr>, <tr>\n <td>M8E</td>\n <td>Not assigned</td>\n <td>Not assigned\n </td></tr>, <tr>\n <td>M9E</td>\n <td>Not assigned</td>\n <td>Not assigned\n </td></tr>, <tr>\n <td>M1G</td>\n <td><a href=\"/wiki/Scarborough,_Toronto\" title=\"Scarborough, Toronto\">Scarborough</a></td>\n <td><a href=\"/wiki/Woburn,_Toronto\" title=\"Woburn, Toronto\">Woburn</a>\n </td></tr>, <tr>\n <td>M2G</td>\n <td>Not assigned</td>\n <td>Not assigned\n </td></tr>, <tr>\n <td>M3G</td>\n <td>Not assigned</td>\n <td>Not assigned\n </td></tr>, <tr>\n <td>M4G</td>\n <td><a href=\"/wiki/East_York\" title=\"East York\">East York</a></td>\n <td><a href=\"/wiki/Leaside\" title=\"Leaside\">Leaside</a>\n </td></tr>, <tr>\n <td>M5G</td>\n <td><a href=\"/wiki/Downtown_Toronto\" title=\"Downtown Toronto\">Downtown Toronto</a></td>\n <td>Central Bay Street\n </td></tr>, <tr>\n <td>M6G</td>\n <td><a href=\"/wiki/Downtown_Toronto\" title=\"Downtown Toronto\">Downtown Toronto</a></td>\n <td>Christie\n </td></tr>, <tr>\n <td>M7G</td>\n <td>Not assigned</td>\n <td>Not assigned\n </td></tr>, <tr>\n <td>M8G</td>\n <td>Not assigned</td>\n <td>Not assigned\n </td></tr>, <tr>\n <td>M9G</td>\n <td>Not assigned</td>\n <td>Not assigned\n </td></tr>, <tr>\n <td>M1H</td>\n <td><a href=\"/wiki/Scarborough,_Toronto\" title=\"Scarborough, Toronto\">Scarborough</a></td>\n <td><a href=\"/wiki/Woburn,_Toronto\" title=\"Woburn, Toronto\">Cedarbrae</a>\n </td></tr>, <tr>\n <td>M2H</td>\n <td><a href=\"/wiki/North_York\" title=\"North York\">North York</a></td>\n <td><a href=\"/wiki/Hillcrest_Village\" title=\"Hillcrest Village\">Hillcrest Village</a>\n </td></tr>, <tr>\n <td>M3H</td>\n <td><a href=\"/wiki/North_York\" title=\"North York\">North York</a></td>\n <td><a href=\"/wiki/Bathurst_Manor\" title=\"Bathurst Manor\">Bathurst Manor</a>\n </td></tr>, <tr>\n <td>M3H</td>\n <td><a href=\"/wiki/North_York\" title=\"North York\">North York</a></td>\n <td>Downsview North\n </td></tr>, <tr>\n <td>M3H</td>\n <td><a href=\"/wiki/North_York\" title=\"North York\">North York</a></td>\n <td><a class=\"mw-redirect\" href=\"/wiki/Wilson_Heights,_Toronto\" title=\"Wilson Heights, Toronto\">Wilson Heights</a>\n </td></tr>, <tr>\n <td>M4H</td>\n <td><a href=\"/wiki/East_York\" title=\"East York\">East York</a></td>\n <td><a href=\"/wiki/Thorncliffe_Park\" title=\"Thorncliffe Park\">Thorncliffe Park</a>\n </td></tr>, <tr>\n <td>M5H</td>\n <td><a href=\"/wiki/Downtown_Toronto\" title=\"Downtown Toronto\">Downtown Toronto</a></td>\n <td><a href=\"/wiki/Adelaide\" title=\"Adelaide\">Adelaide</a>\n </td></tr>, <tr>\n <td>M5H</td>\n <td><a href=\"/wiki/Downtown_Toronto\" title=\"Downtown Toronto\">Downtown Toronto</a></td>\n <td><a href=\"/wiki/King\" title=\"King\">King</a>\n </td></tr>, <tr>\n <td>M5H</td>\n <td><a href=\"/wiki/Downtown_Toronto\" title=\"Downtown Toronto\">Downtown Toronto</a></td>\n <td>Richmond\n </td></tr>, <tr>\n <td>M6H</td>\n <td><a href=\"/wiki/West_Toronto\" title=\"West Toronto\">West Toronto</a></td>\n <td><a class=\"mw-redirect\" href=\"/wiki/Dovercourt_Village\" title=\"Dovercourt Village\">Dovercourt Village</a>\n </td></tr>, <tr>\n <td>M6H</td>\n <td><a href=\"/wiki/West_Toronto\" title=\"West Toronto\">West Toronto</a></td>\n <td>Dufferin\n </td></tr>, <tr>\n <td>M7H</td>\n <td>Not assigned</td>\n <td>Not assigned\n </td></tr>, <tr>\n <td>M8H</td>\n <td>Not assigned</td>\n <td>Not assigned\n </td></tr>, <tr>\n <td>M9H</td>\n <td>Not assigned</td>\n <td>Not assigned\n </td></tr>, <tr>\n <td>M1J</td>\n <td><a href=\"/wiki/Scarborough,_Toronto\" title=\"Scarborough, Toronto\">Scarborough</a></td>\n <td><a href=\"/wiki/Scarborough_Village\" title=\"Scarborough Village\">Scarborough Village</a>\n </td></tr>, <tr>\n <td>M2J</td>\n <td><a href=\"/wiki/North_York\" title=\"North York\">North York</a></td>\n <td>Fairview\n </td></tr>, <tr>\n <td>M2J</td>\n <td><a href=\"/wiki/North_York\" title=\"North York\">North York</a></td>\n <td><a href=\"/wiki/Henry_Farm\" title=\"Henry Farm\">Henry Farm</a>\n </td></tr>, <tr>\n <td>M2J</td>\n <td><a href=\"/wiki/North_York\" title=\"North York\">North York</a></td>\n <td>Oriole\n </td></tr>, <tr>\n <td>M3J</td>\n <td><a href=\"/wiki/North_York\" title=\"North York\">North York</a></td>\n <td><a class=\"mw-redirect\" href=\"/wiki/Northwood_Park\" title=\"Northwood Park\">Northwood Park</a>\n </td></tr>, <tr>\n <td>M3J</td>\n <td><a href=\"/wiki/North_York\" title=\"North York\">North York</a></td>\n <td><a href=\"/wiki/York_University\" title=\"York University\">York University</a>\n </td></tr>, <tr>\n <td>M4J</td>\n <td><a href=\"/wiki/East_York\" title=\"East York\">East York</a></td>\n <td><a href=\"/wiki/East_Toronto\" title=\"East Toronto\">East Toronto</a>\n </td></tr>, <tr>\n <td>M5J</td>\n <td><a href=\"/wiki/Downtown_Toronto\" title=\"Downtown Toronto\">Downtown Toronto</a></td>\n <td>Harbourfront East\n </td></tr>, <tr>\n <td>M5J</td>\n <td><a href=\"/wiki/Downtown_Toronto\" title=\"Downtown Toronto\">Downtown Toronto</a></td>\n <td><a href=\"/wiki/Toronto_Islands\" title=\"Toronto Islands\">Toronto Islands</a>\n </td></tr>, <tr>\n <td>M5J</td>\n <td><a href=\"/wiki/Downtown_Toronto\" title=\"Downtown Toronto\">Downtown Toronto</a></td>\n <td><a href=\"/wiki/Union_Station_(Toronto)\" title=\"Union Station (Toronto)\">Union Station</a>\n </td></tr>, <tr>\n <td>M6J</td>\n <td><a href=\"/wiki/West_Toronto\" title=\"West Toronto\">West Toronto</a></td>\n <td><a href=\"/wiki/Little_Portugal,_Toronto\" title=\"Little Portugal, Toronto\">Little Portugal</a>\n </td></tr>, <tr>\n <td>M6J</td>\n <td><a href=\"/wiki/West_Toronto\" title=\"West Toronto\">West Toronto</a></td>\n <td><a href=\"/wiki/Trinity%E2%80%93Bellwoods\" title=\"Trinity\u2013Bellwoods\">Trinity</a>\n </td></tr>, <tr>\n <td>M7J</td>\n <td>Not assigned</td>\n <td>Not assigned\n </td></tr>, <tr>\n <td>M8J</td>\n <td>Not assigned</td>\n <td>Not assigned\n </td></tr>, <tr>\n <td>M9J</td>\n <td>Not assigned</td>\n <td>Not assigned\n </td></tr>, <tr>\n <td>M1K</td>\n <td><a href=\"/wiki/Scarborough,_Toronto\" title=\"Scarborough, Toronto\">Scarborough</a></td>\n <td>East Birchmount Park\n </td></tr>, <tr>\n <td>M1K</td>\n <td><a href=\"/wiki/Scarborough,_Toronto\" title=\"Scarborough, Toronto\">Scarborough</a></td>\n <td><a href=\"/wiki/Ionview\" title=\"Ionview\">Ionview</a>\n </td></tr>, <tr>\n <td>M1K</td>\n <td><a href=\"/wiki/Scarborough,_Toronto\" title=\"Scarborough, Toronto\">Scarborough</a></td>\n <td><a class=\"mw-redirect\" href=\"/wiki/Kennedy_Park,_Toronto\" title=\"Kennedy Park, Toronto\">Kennedy Park</a>\n </td></tr>, <tr>\n <td>M2K</td>\n <td><a href=\"/wiki/North_York\" title=\"North York\">North York</a></td>\n <td><a href=\"/wiki/Bayview_Village\" title=\"Bayview Village\">Bayview Village</a>\n </td></tr>, <tr>\n <td>M3K</td>\n <td><a href=\"/wiki/North_York\" title=\"North York\">North York</a></td>\n <td><a href=\"/wiki/CFB_Toronto\" title=\"CFB Toronto\">CFB Toronto</a>\n </td></tr>, <tr>\n <td>M3K</td>\n <td><a href=\"/wiki/North_York\" title=\"North York\">North York</a></td>\n <td>Downsview East\n </td></tr>, <tr>\n <td>M4K</td>\n <td><a href=\"/wiki/East_Toronto\" title=\"East Toronto\">East Toronto</a></td>\n <td>The Danforth West\n </td></tr>, <tr>\n <td>M4K</td>\n <td><a href=\"/wiki/East_Toronto\" title=\"East Toronto\">East Toronto</a></td>\n <td><a href=\"/wiki/Riverdale,_Toronto\" title=\"Riverdale, Toronto\">Riverdale</a>\n </td></tr>, <tr>\n <td>M5K</td>\n <td><a href=\"/wiki/Downtown_Toronto\" title=\"Downtown Toronto\">Downtown Toronto</a></td>\n <td><a href=\"/wiki/Design_Exchange\" title=\"Design Exchange\">Design Exchange</a>\n </td></tr>, <tr>\n <td>M5K</td>\n <td><a href=\"/wiki/Downtown_Toronto\" title=\"Downtown Toronto\">Downtown Toronto</a></td>\n <td><a class=\"mw-redirect\" href=\"/wiki/Toronto_Dominion_Centre\" title=\"Toronto Dominion Centre\">Toronto Dominion Centre</a>\n </td></tr>, <tr>\n <td>M6K</td>\n <td><a href=\"/wiki/West_Toronto\" title=\"West Toronto\">West Toronto</a></td>\n <td>Brockton\n </td></tr>, <tr>\n <td>M6K</td>\n <td><a href=\"/wiki/West_Toronto\" title=\"West Toronto\">West Toronto</a></td>\n <td><a href=\"/wiki/Exhibition_Place\" title=\"Exhibition Place\">Exhibition Place</a>\n </td></tr>, <tr>\n <td>M6K</td>\n <td><a href=\"/wiki/West_Toronto\" title=\"West Toronto\">West Toronto</a></td>\n <td><a class=\"mw-redirect\" href=\"/wiki/Parkdale_Village\" title=\"Parkdale Village\">Parkdale Village</a>\n </td></tr>, <tr>\n <td>M7K</td>\n <td>Not assigned</td>\n <td>Not assigned\n </td></tr>, <tr>\n <td>M8K</td>\n <td>Not assigned</td>\n <td>Not assigned\n </td></tr>, <tr>\n <td>M9K</td>\n <td>Not assigned</td>\n <td>Not assigned\n </td></tr>, <tr>\n <td>M1L</td>\n <td><a href=\"/wiki/Scarborough,_Toronto\" title=\"Scarborough, Toronto\">Scarborough</a></td>\n <td><a href=\"/wiki/Clairlea\" title=\"Clairlea\">Clairlea</a>\n </td></tr>, <tr>\n <td>M1L</td>\n <td><a href=\"/wiki/Scarborough,_Toronto\" title=\"Scarborough, Toronto\">Scarborough</a></td>\n <td><a href=\"/wiki/Golden_Mile,_Toronto\" title=\"Golden Mile, Toronto\">Golden Mile</a>\n </td></tr>, <tr>\n <td>M1L</td>\n <td><a href=\"/wiki/Scarborough,_Toronto\" title=\"Scarborough, Toronto\">Scarborough</a></td>\n <td><a href=\"/wiki/Oakridge,_Toronto\" title=\"Oakridge, Toronto\">Oakridge</a>\n </td></tr>, <tr>\n <td>M2L</td>\n <td><a href=\"/wiki/North_York\" title=\"North York\">North York</a></td>\n <td><a class=\"mw-redirect\" href=\"/wiki/Silver_Hills\" title=\"Silver Hills\">Silver Hills</a>\n </td></tr>, <tr>\n <td>M2L</td>\n <td><a href=\"/wiki/North_York\" title=\"North York\">North York</a></td>\n <td><a href=\"/wiki/York_Mills\" title=\"York Mills\">York Mills</a>\n </td></tr>, <tr>\n <td>M3L</td>\n <td><a href=\"/wiki/North_York\" title=\"North York\">North York</a></td>\n <td><a href=\"/wiki/Downsview\" title=\"Downsview\">Downsview West</a>\n </td></tr>, <tr>\n <td>M4L</td>\n <td><a href=\"/wiki/East_Toronto\" title=\"East Toronto\">East Toronto</a></td>\n <td>The Beaches West\n </td></tr>, <tr>\n <td>M4L</td>\n <td><a href=\"/wiki/East_Toronto\" title=\"East Toronto\">East Toronto</a></td>\n <td><a class=\"mw-redirect\" href=\"/wiki/India_Bazaar\" title=\"India Bazaar\">India Bazaar</a>\n </td></tr>, <tr>\n <td>M5L</td>\n <td><a href=\"/wiki/Downtown_Toronto\" title=\"Downtown Toronto\">Downtown Toronto</a></td>\n <td><a href=\"/wiki/Commerce_Court\" title=\"Commerce Court\">Commerce Court</a>\n </td></tr>, <tr>\n <td>M5L</td>\n <td><a href=\"/wiki/Downtown_Toronto\" title=\"Downtown Toronto\">Downtown Toronto</a></td>\n <td>Victoria Hotel\n </td></tr>, <tr>\n <td>M6L</td>\n <td><a href=\"/wiki/North_York\" title=\"North York\">North York</a></td>\n <td><a class=\"mw-redirect\" href=\"/wiki/Maple_Leaf_Park\" title=\"Maple Leaf Park\">Maple Leaf Park</a>\n </td></tr>, <tr>\n <td>M6L</td>\n <td><a href=\"/wiki/North_York\" title=\"North York\">North York</a></td>\n <td>North Park\n </td></tr>, <tr>\n <td>M6L</td>\n <td><a href=\"/wiki/North_York\" title=\"North York\">North York</a></td>\n <td>Upwood Park\n </td></tr>, <tr>\n <td>M7L</td>\n <td>Not assigned</td>\n <td>Not assigned\n </td></tr>, <tr>\n <td>M8L</td>\n <td>Not assigned</td>\n <td>Not assigned\n </td></tr>, <tr>\n <td>M9L</td>\n <td><a href=\"/wiki/North_York\" title=\"North York\">North York</a></td>\n <td><a href=\"/wiki/Humber_Summit\" title=\"Humber Summit\">Humber Summit</a>\n </td></tr>, <tr>\n <td>M1M</td>\n <td><a href=\"/wiki/Scarborough,_Toronto\" title=\"Scarborough, Toronto\">Scarborough</a></td>\n <td><a href=\"/wiki/Cliffcrest\" title=\"Cliffcrest\">Cliffcrest</a>\n </td></tr>, <tr>\n <td>M1M</td>\n <td><a href=\"/wiki/Scarborough,_Toronto\" title=\"Scarborough, Toronto\">Scarborough</a></td>\n <td><a href=\"/wiki/Cliffside,_Toronto\" title=\"Cliffside, Toronto\">Cliffside</a>\n </td></tr>, <tr>\n <td>M1M</td>\n <td><a href=\"/wiki/Scarborough,_Toronto\" title=\"Scarborough, Toronto\">Scarborough</a></td>\n <td>Scarborough Village West\n </td></tr>, <tr>\n <td>M2M</td>\n <td><a href=\"/wiki/North_York\" title=\"North York\">North York</a></td>\n <td><a href=\"/wiki/Newtonbrook\" title=\"Newtonbrook\">Newtonbrook</a>\n </td></tr>, <tr>\n <td>M2M</td>\n <td><a href=\"/wiki/North_York\" title=\"North York\">North York</a></td>\n <td><a href=\"/wiki/Willowdale,_Toronto\" title=\"Willowdale, Toronto\">Willowdale</a>\n </td></tr>, <tr>\n <td>M3M</td>\n <td><a href=\"/wiki/North_York\" title=\"North York\">North York</a></td>\n <td>Downsview Central\n </td></tr>, <tr>\n <td>M4M</td>\n <td><a href=\"/wiki/East_Toronto\" title=\"East Toronto\">East Toronto</a></td>\n <td>Studio District\n </td></tr>, <tr>\n <td>M5M</td>\n <td><a href=\"/wiki/North_York\" title=\"North York\">North York</a></td>\n <td><a href=\"/wiki/Bedford_Park,_Toronto\" title=\"Bedford Park, Toronto\">Bedford Park</a>\n </td></tr>, <tr>\n <td>M5M</td>\n <td><a href=\"/wiki/North_York\" title=\"North York\">North York</a></td>\n <td>Lawrence Manor East\n </td></tr>, <tr>\n <td>M6M</td>\n <td><a href=\"/wiki/York\" title=\"York\">York</a></td>\n <td>Del Ray\n </td></tr>, <tr>\n <td>M6M</td>\n <td><a href=\"/wiki/York\" title=\"York\">York</a></td>\n <td><a class=\"mw-redirect\" href=\"/wiki/Keelesdale\" title=\"Keelesdale\">Keelesdale</a>\n </td></tr>, <tr>\n <td>M6M</td>\n <td><a href=\"/wiki/York\" title=\"York\">York</a></td>\n <td><a href=\"/wiki/Mount_Dennis\" title=\"Mount Dennis\">Mount Dennis</a>\n </td></tr>, <tr>\n <td>M6M</td>\n <td><a href=\"/wiki/York\" title=\"York\">York</a></td>\n <td><a href=\"/wiki/Silverthorn,_Toronto\" title=\"Silverthorn, Toronto\">Silverthorn</a>\n </td></tr>, <tr>\n <td>M7M</td>\n <td>Not assigned</td>\n <td>Not assigned\n </td></tr>, <tr>\n <td>M8M</td>\n <td>Not assigned</td>\n <td>Not assigned\n </td></tr>, <tr>\n <td>M9M</td>\n <td><a href=\"/wiki/North_York\" title=\"North York\">North York</a></td>\n <td><a class=\"mw-redirect\" href=\"/wiki/Emery,_Toronto\" title=\"Emery, Toronto\">Emery</a>\n </td></tr>, <tr>\n <td>M9M</td>\n <td><a href=\"/wiki/North_York\" title=\"North York\">North York</a></td>\n <td><a class=\"mw-redirect\" href=\"/wiki/Humberlea\" title=\"Humberlea\">Humberlea</a>\n </td></tr>, <tr>\n <td>M1N</td>\n <td><a href=\"/wiki/Scarborough,_Toronto\" title=\"Scarborough, Toronto\">Scarborough</a></td>\n <td><a href=\"/wiki/Birch_Cliff\" title=\"Birch Cliff\">Birch Cliff</a>\n </td></tr>, <tr>\n <td>M1N</td>\n <td><a href=\"/wiki/Scarborough,_Toronto\" title=\"Scarborough, Toronto\">Scarborough</a></td>\n <td>Cliffside West\n </td></tr>, <tr>\n <td>M2N</td>\n <td><a href=\"/wiki/North_York\" title=\"North York\">North York</a></td>\n <td>Willowdale South\n </td></tr>, <tr>\n <td>M3N</td>\n <td><a href=\"/wiki/North_York\" title=\"North York\">North York</a></td>\n <td>Downsview Northwest\n </td></tr>, <tr>\n <td>M4N</td>\n <td><a class=\"mw-redirect\" href=\"/wiki/Central_Toronto\" title=\"Central Toronto\">Central Toronto</a></td>\n <td><a href=\"/wiki/Lawrence_Park,_Toronto\" title=\"Lawrence Park, Toronto\">Lawrence Park</a>\n </td></tr>, <tr>\n <td>M5N</td>\n <td><a class=\"mw-redirect\" href=\"/wiki/Central_Toronto\" title=\"Central Toronto\">Central Toronto</a></td>\n <td>Roselawn\n </td></tr>, <tr>\n <td>M6N</td>\n <td><a href=\"/wiki/York\" title=\"York\">York</a></td>\n <td>The Junction North\n </td></tr>, <tr>\n <td>M6N</td>\n <td><a href=\"/wiki/York\" title=\"York\">York</a></td>\n <td>Runnymede\n </td></tr>, <tr>\n <td>M7N</td>\n <td>Not assigned</td>\n <td>Not assigned\n </td></tr>, <tr>\n <td>M8N</td>\n <td>Not assigned</td>\n <td>Not assigned\n </td></tr>, <tr>\n <td>M9N</td>\n <td><a href=\"/wiki/York\" title=\"York\">York</a></td>\n <td><a href=\"/wiki/Weston,_Toronto\" title=\"Weston, Toronto\">Weston</a>\n </td></tr>, <tr>\n <td>M1P</td>\n <td><a href=\"/wiki/Scarborough,_Toronto\" title=\"Scarborough, Toronto\">Scarborough</a></td>\n <td><a href=\"/wiki/Dorset_Park\" title=\"Dorset Park\">Dorset Park</a>\n </td></tr>, <tr>\n <td>M1P</td>\n <td><a href=\"/wiki/Scarborough,_Toronto\" title=\"Scarborough, Toronto\">Scarborough</a></td>\n <td><a href=\"/wiki/Scarborough_Town_Centre\" title=\"Scarborough Town Centre\">Scarborough Town Centre</a>\n </td></tr>, <tr>\n <td>M1P</td>\n <td><a href=\"/wiki/Scarborough,_Toronto\" title=\"Scarborough, Toronto\">Scarborough</a></td>\n <td><a class=\"mw-redirect\" href=\"/wiki/Wexford_Heights\" title=\"Wexford Heights\">Wexford Heights</a>\n </td></tr>, <tr>\n <td>M2P</td>\n <td><a href=\"/wiki/North_York\" title=\"North York\">North York</a></td>\n <td>York Mills West\n </td></tr>, <tr>\n <td>M3P</td>\n <td>Not assigned</td>\n <td>Not assigned\n </td></tr>, <tr>\n <td>M4P</td>\n <td><a class=\"mw-redirect\" href=\"/wiki/Central_Toronto\" title=\"Central Toronto\">Central Toronto</a></td>\n <td>Davisville North\n </td></tr>, <tr>\n <td>M5P</td>\n <td><a class=\"mw-redirect\" href=\"/wiki/Central_Toronto\" title=\"Central Toronto\">Central Toronto</a></td>\n <td><a class=\"mw-redirect\" href=\"/wiki/Forest_Hill_North\" title=\"Forest Hill North\">Forest Hill North</a>\n </td></tr>, <tr>\n <td>M5P</td>\n <td><a class=\"mw-redirect\" href=\"/wiki/Central_Toronto\" title=\"Central Toronto\">Central Toronto</a></td>\n <td>Forest Hill West\n </td></tr>, <tr>\n <td>M6P</td>\n <td><a href=\"/wiki/West_Toronto\" title=\"West Toronto\">West Toronto</a></td>\n <td><a href=\"/wiki/High_Park\" title=\"High Park\">High Park</a>\n </td></tr>, <tr>\n <td>M6P</td>\n <td><a href=\"/wiki/West_Toronto\" title=\"West Toronto\">West Toronto</a></td>\n <td>The Junction South\n </td></tr>, <tr>\n <td>M7P</td>\n <td>Not assigned</td>\n <td>Not assigned\n </td></tr>, <tr>\n <td>M8P</td>\n <td>Not assigned</td>\n <td>Not assigned\n </td></tr>, <tr>\n <td>M9P</td>\n <td><a href=\"/wiki/Etobicoke\" title=\"Etobicoke\">Etobicoke</a></td>\n <td><a class=\"mw-redirect\" href=\"/wiki/Westmount\" title=\"Westmount\">Westmount</a>\n </td></tr>, <tr>\n <td>M1R</td>\n <td><a href=\"/wiki/Scarborough,_Toronto\" title=\"Scarborough, Toronto\">Scarborough</a></td>\n <td><a href=\"/wiki/Maryvale,_Toronto\" title=\"Maryvale, Toronto\">Maryvale</a>\n </td></tr>, <tr>\n <td>M1R</td>\n <td><a href=\"/wiki/Scarborough,_Toronto\" title=\"Scarborough, Toronto\">Scarborough</a></td>\n <td><a href=\"/wiki/Wexford\" title=\"Wexford\">Wexford</a>\n </td></tr>, <tr>\n <td>M2R</td>\n <td><a href=\"/wiki/North_York\" title=\"North York\">North York</a></td>\n <td><a class=\"mw-redirect\" href=\"/wiki/Willowdale_West\" title=\"Willowdale West\">Willowdale West</a>\n </td></tr>, <tr>\n <td>M3R</td>\n <td>Not assigned</td>\n <td>Not assigned\n </td></tr>, <tr>\n <td>M4R</td>\n <td><a class=\"mw-redirect\" href=\"/wiki/Central_Toronto\" title=\"Central Toronto\">Central Toronto</a></td>\n <td>North Toronto West\n </td></tr>, <tr>\n <td>M5R</td>\n <td><a class=\"mw-redirect\" href=\"/wiki/Central_Toronto\" title=\"Central Toronto\">Central Toronto</a></td>\n <td><a href=\"/wiki/The_Annex\" title=\"The Annex\">The Annex</a>\n </td></tr>, <tr>\n <td>M5R</td>\n <td><a class=\"mw-redirect\" href=\"/wiki/Central_Toronto\" title=\"Central Toronto\">Central Toronto</a></td>\n <td>North Midtown\n </td></tr>, <tr>\n <td>M5R</td>\n <td><a class=\"mw-redirect\" href=\"/wiki/Central_Toronto\" title=\"Central Toronto\">Central Toronto</a></td>\n <td><a href=\"/wiki/Yorkville,_Toronto\" title=\"Yorkville, Toronto\">Yorkville</a>\n </td></tr>, <tr>\n <td>M6R</td>\n <td><a href=\"/wiki/West_Toronto\" title=\"West Toronto\">West Toronto</a></td>\n <td><a href=\"/wiki/Parkdale,_Toronto\" title=\"Parkdale, Toronto\">Parkdale</a>\n </td></tr>, <tr>\n <td>M6R</td>\n <td><a href=\"/wiki/West_Toronto\" title=\"West Toronto\">West Toronto</a></td>\n <td><a href=\"/wiki/Roncesvalles\" title=\"Roncesvalles\">Roncesvalles</a>\n </td></tr>, <tr>\n <td>M7R</td>\n <td>Mississauga</td>\n <td>Canada Post Gateway Processing Centre\n </td></tr>, <tr>\n <td>M8R</td>\n <td>Not assigned</td>\n <td>Not assigned\n </td></tr>, <tr>\n <td>M9R</td>\n <td><a href=\"/wiki/Etobicoke\" title=\"Etobicoke\">Etobicoke</a></td>\n <td><a href=\"/wiki/Kingsview_Village\" title=\"Kingsview Village\">Kingsview Village</a>\n </td></tr>, <tr>\n <td>M9R</td>\n <td><a href=\"/wiki/Etobicoke\" title=\"Etobicoke\">Etobicoke</a></td>\n <td>Martin Grove Gardens\n </td></tr>, <tr>\n <td>M9R</td>\n <td><a href=\"/wiki/Etobicoke\" title=\"Etobicoke\">Etobicoke</a></td>\n <td>Richview Gardens\n </td></tr>, <tr>\n <td>M9R</td>\n <td><a href=\"/wiki/Etobicoke\" title=\"Etobicoke\">Etobicoke</a></td>\n <td>St. Phillips\n </td></tr>, <tr>\n <td>M1S</td>\n <td><a href=\"/wiki/Scarborough,_Toronto\" title=\"Scarborough, Toronto\">Scarborough</a></td>\n <td><a href=\"/wiki/Agincourt,_Toronto\" title=\"Agincourt, Toronto\">Agincourt</a>\n </td></tr>, <tr>\n <td>M2S</td>\n <td>Not assigned</td>\n <td>Not assigned\n </td></tr>, <tr>\n <td>M3S</td>\n <td>Not assigned</td>\n <td>Not assigned\n </td></tr>, <tr>\n <td>M4S</td>\n <td><a class=\"mw-redirect\" href=\"/wiki/Central_Toronto\" title=\"Central Toronto\">Central Toronto</a></td>\n <td>Davisville\n </td></tr>, <tr>\n <td>M5S</td>\n <td><a href=\"/wiki/Downtown_Toronto\" title=\"Downtown Toronto\">Downtown Toronto</a></td>\n <td>Harbord\n </td></tr>, <tr>\n <td>M5S</td>\n <td><a href=\"/wiki/Downtown_Toronto\" title=\"Downtown Toronto\">Downtown Toronto</a></td>\n <td><a href=\"/wiki/University_of_Toronto\" title=\"University of Toronto\">University of Toronto</a>\n </td></tr>, <tr>\n <td>M6S</td>\n <td><a href=\"/wiki/West_Toronto\" title=\"West Toronto\">West Toronto</a></td>\n <td><a href=\"/wiki/Runnymede\" title=\"Runnymede\">Runnymede</a>\n </td></tr>, <tr>\n <td>M6S</td>\n <td><a href=\"/wiki/West_Toronto\" title=\"West Toronto\">West Toronto</a></td>\n <td><a href=\"/wiki/Swansea\" title=\"Swansea\">Swansea</a>\n </td></tr>, <tr>\n <td>M7S</td>\n <td>Not assigned</td>\n <td>Not assigned\n </td></tr>, <tr>\n <td>M8S</td>\n <td>Not assigned</td>\n <td>Not assigned\n </td></tr>, <tr>\n <td>M9S</td>\n <td>Not assigned</td>\n <td>Not assigned\n </td></tr>, <tr>\n <td>M1T</td>\n <td><a href=\"/wiki/Scarborough,_Toronto\" title=\"Scarborough, Toronto\">Scarborough</a></td>\n <td>Clarks Corners\n </td></tr>, <tr>\n <td>M1T</td>\n <td><a href=\"/wiki/Scarborough,_Toronto\" title=\"Scarborough, Toronto\">Scarborough</a></td>\n <td>Sullivan\n </td></tr>, <tr>\n <td>M1T</td>\n <td><a href=\"/wiki/Scarborough,_Toronto\" title=\"Scarborough, Toronto\">Scarborough</a></td>\n <td><a href=\"/wiki/Tam_O%27Shanter_%E2%80%93_Sullivan\" title=\"Tam O'Shanter \u2013 Sullivan\">Tam O'Shanter</a>\n </td></tr>, <tr>\n <td>M2T</td>\n <td>Not assigned</td>\n <td>Not assigned\n </td></tr>, <tr>\n <td>M3T</td>\n <td>Not assigned</td>\n <td>Not assigned\n </td></tr>, <tr>\n <td>M4T</td>\n <td><a class=\"mw-redirect\" href=\"/wiki/Central_Toronto\" title=\"Central Toronto\">Central Toronto</a></td>\n <td><a href=\"/wiki/Moore_Park,_Toronto\" title=\"Moore Park, Toronto\">Moore Park</a>\n </td></tr>, <tr>\n <td>M4T</td>\n <td><a class=\"mw-redirect\" href=\"/wiki/Central_Toronto\" title=\"Central Toronto\">Central Toronto</a></td>\n <td>Summerhill East\n </td></tr>, <tr>\n <td>M5T</td>\n <td><a href=\"/wiki/Downtown_Toronto\" title=\"Downtown Toronto\">Downtown Toronto</a></td>\n <td><a href=\"/wiki/Chinatown\" title=\"Chinatown\">Chinatown</a>\n </td></tr>, <tr>\n <td>M5T</td>\n <td><a href=\"/wiki/Downtown_Toronto\" title=\"Downtown Toronto\">Downtown Toronto</a></td>\n <td><a href=\"/wiki/Grange_Park_(Toronto)\" title=\"Grange Park (Toronto)\">Grange Park</a>\n </td></tr>, <tr>\n <td>M5T</td>\n <td><a href=\"/wiki/Downtown_Toronto\" title=\"Downtown Toronto\">Downtown Toronto</a></td>\n <td><a href=\"/wiki/Kensington_Market\" title=\"Kensington Market\">Kensington Market</a>\n </td></tr>, <tr>\n <td>M6T</td>\n <td>Not assigned</td>\n <td>Not assigned\n </td></tr>, <tr>\n <td>M7T</td>\n <td>Not assigned</td>\n <td>Not assigned\n </td></tr>, <tr>\n <td>M8T</td>\n <td>Not assigned</td>\n <td>Not assigned\n </td></tr>, <tr>\n <td>M9T</td>\n <td>Not assigned</td>\n <td>Not assigned\n </td></tr>, <tr>\n <td>M1V</td>\n <td><a href=\"/wiki/Scarborough,_Toronto\" title=\"Scarborough, Toronto\">Scarborough</a></td>\n <td><a class=\"mw-redirect\" href=\"/wiki/Agincourt_North\" title=\"Agincourt North\">Agincourt North</a>\n </td></tr>, <tr>\n <td>M1V</td>\n <td><a href=\"/wiki/Scarborough,_Toronto\" title=\"Scarborough, Toronto\">Scarborough</a></td>\n <td>L'Amoreaux East\n </td></tr>, <tr>\n <td>M1V</td>\n <td><a href=\"/wiki/Scarborough,_Toronto\" title=\"Scarborough, Toronto\">Scarborough</a></td>\n <td><a href=\"/wiki/Milliken,_Ontario\" title=\"Milliken, Ontario\">Milliken</a>\n </td></tr>, <tr>\n <td>M1V</td>\n <td><a href=\"/wiki/Scarborough,_Toronto\" title=\"Scarborough, Toronto\">Scarborough</a></td>\n <td>Steeles East\n </td></tr>, <tr>\n <td>M2V</td>\n <td>Not assigned</td>\n <td>Not assigned\n </td></tr>, <tr>\n <td>M3V</td>\n <td>Not assigned</td>\n <td>Not assigned\n </td></tr>, <tr>\n <td>M4V</td>\n <td><a class=\"mw-redirect\" href=\"/wiki/Central_Toronto\" title=\"Central Toronto\">Central Toronto</a></td>\n <td><a href=\"/wiki/Deer_Park,_Toronto\" title=\"Deer Park, Toronto\">Deer Park</a>\n </td></tr>, <tr>\n <td>M4V</td>\n <td><a class=\"mw-redirect\" href=\"/wiki/Central_Toronto\" title=\"Central Toronto\">Central Toronto</a></td>\n <td>Forest Hill SE\n </td></tr>, <tr>\n <td>M4V</td>\n <td><a class=\"mw-redirect\" href=\"/wiki/Central_Toronto\" title=\"Central Toronto\">Central Toronto</a></td>\n <td><a class=\"mw-redirect\" href=\"/wiki/Rathnelly\" title=\"Rathnelly\">Rathnelly</a>\n </td></tr>, <tr>\n <td>M4V</td>\n <td><a class=\"mw-redirect\" href=\"/wiki/Central_Toronto\" title=\"Central Toronto\">Central Toronto</a></td>\n <td><a href=\"/wiki/South_Hill,_Toronto\" title=\"South Hill, Toronto\">South Hill</a>\n </td></tr>, <tr>\n <td>M4V</td>\n <td><a class=\"mw-redirect\" href=\"/wiki/Central_Toronto\" title=\"Central Toronto\">Central Toronto</a></td>\n <td>Summerhill West\n </td></tr>, <tr>\n <td>M5V</td>\n <td><a href=\"/wiki/Downtown_Toronto\" title=\"Downtown Toronto\">Downtown Toronto</a></td>\n <td><a href=\"/wiki/CN_Tower\" title=\"CN Tower\">CN Tower</a>\n </td></tr>, <tr>\n <td>M5V</td>\n <td><a href=\"/wiki/Downtown_Toronto\" title=\"Downtown Toronto\">Downtown Toronto</a></td>\n <td>Bathurst Quay\n </td></tr>, <tr>\n <td>M5V</td>\n <td><a href=\"/wiki/Downtown_Toronto\" title=\"Downtown Toronto\">Downtown Toronto</a></td>\n <td>Island airport\n </td></tr>, <tr>\n <td>M5V</td>\n <td><a href=\"/wiki/Downtown_Toronto\" title=\"Downtown Toronto\">Downtown Toronto</a></td>\n <td>Harbourfront West\n </td></tr>, <tr>\n <td>M5V</td>\n <td><a href=\"/wiki/Downtown_Toronto\" title=\"Downtown Toronto\">Downtown Toronto</a></td>\n <td><a class=\"mw-redirect\" href=\"/wiki/King_and_Spadina\" title=\"King and Spadina\">King and Spadina</a>\n </td></tr>, <tr>\n <td>M5V</td>\n <td><a href=\"/wiki/Downtown_Toronto\" title=\"Downtown Toronto\">Downtown Toronto</a></td>\n <td><a href=\"/wiki/Railway_Lands\" title=\"Railway Lands\">Railway Lands</a>\n </td></tr>, <tr>\n <td>M5V</td>\n <td><a href=\"/wiki/Downtown_Toronto\" title=\"Downtown Toronto\">Downtown Toronto</a></td>\n <td><a class=\"mw-redirect\" href=\"/wiki/South_Niagara\" title=\"South Niagara\">South Niagara</a>\n </td></tr>, <tr>\n <td>M6V</td>\n <td>Not assigned</td>\n <td>Not assigned\n </td></tr>, <tr>\n <td>M7V</td>\n <td>Not assigned</td>\n <td>Not assigned\n </td></tr>, <tr>\n <td>M8V</td>\n <td><a href=\"/wiki/Etobicoke\" title=\"Etobicoke\">Etobicoke</a></td>\n <td>Humber Bay Shores\n </td></tr>, <tr>\n <td>M8V</td>\n <td><a href=\"/wiki/Etobicoke\" title=\"Etobicoke\">Etobicoke</a></td>\n <td>Mimico South\n </td></tr>, <tr>\n <td>M8V</td>\n <td><a href=\"/wiki/Etobicoke\" title=\"Etobicoke\">Etobicoke</a></td>\n <td><a href=\"/wiki/New_Toronto\" title=\"New Toronto\">New Toronto</a>\n </td></tr>, <tr>\n <td>M9V</td>\n <td><a href=\"/wiki/Etobicoke\" title=\"Etobicoke\">Etobicoke</a></td>\n <td>Albion Gardens\n </td></tr>, <tr>\n <td>M9V</td>\n <td><a href=\"/wiki/Etobicoke\" title=\"Etobicoke\">Etobicoke</a></td>\n <td><a class=\"mw-redirect\" href=\"/wiki/Beaumond_Heights\" title=\"Beaumond Heights\">Beaumond Heights</a>\n </td></tr>, <tr>\n <td>M9V</td>\n <td><a href=\"/wiki/Etobicoke\" title=\"Etobicoke\">Etobicoke</a></td>\n <td>Humbergate\n </td></tr>, <tr>\n <td>M9V</td>\n <td><a href=\"/wiki/Etobicoke\" title=\"Etobicoke\">Etobicoke</a></td>\n <td><a class=\"mw-redirect\" href=\"/wiki/Mount_Olive-Silverstone-Jamestown\" title=\"Mount Olive-Silverstone-Jamestown\">Jamestown</a>\n </td></tr>, <tr>\n <td>M9V</td>\n <td><a href=\"/wiki/Etobicoke\" title=\"Etobicoke\">Etobicoke</a></td>\n <td><a class=\"mw-redirect\" href=\"/wiki/Mount_Olive-Silverstone-Jamestown\" title=\"Mount Olive-Silverstone-Jamestown\">Mount Olive</a>\n </td></tr>, <tr>\n <td>M9V</td>\n <td><a href=\"/wiki/Etobicoke\" title=\"Etobicoke\">Etobicoke</a></td>\n <td><a href=\"/wiki/Silverstone\" title=\"Silverstone\">Silverstone</a>\n </td></tr>, <tr>\n <td>M9V</td>\n <td><a href=\"/wiki/Etobicoke\" title=\"Etobicoke\">Etobicoke</a></td>\n <td><a class=\"mw-redirect\" href=\"/wiki/South_Steeles\" title=\"South Steeles\">South Steeles</a>\n </td></tr>, <tr>\n <td>M9V</td>\n <td><a href=\"/wiki/Etobicoke\" title=\"Etobicoke\">Etobicoke</a></td>\n <td><a href=\"/wiki/Thistletown\" title=\"Thistletown\">Thistletown</a>\n </td></tr>, <tr>\n <td>M1W</td>\n <td><a href=\"/wiki/Scarborough,_Toronto\" title=\"Scarborough, Toronto\">Scarborough</a></td>\n <td>L'Amoreaux West\n </td></tr>, <tr>\n <td>M1W</td>\n <td><a href=\"/wiki/Scarborough,_Toronto\" title=\"Scarborough, Toronto\">Scarborough</a></td>\n <td><a class=\"mw-redirect\" href=\"/wiki/Steeles_West\" title=\"Steeles West\">Steeles West</a>\n </td></tr>, <tr>\n <td>M2W</td>\n <td>Not assigned</td>\n <td>Not assigned\n </td></tr>, <tr>\n <td>M3W</td>\n <td>Not assigned</td>\n <td>Not assigned\n </td></tr>, <tr>\n <td>M4W</td>\n <td><a href=\"/wiki/Downtown_Toronto\" title=\"Downtown Toronto\">Downtown Toronto</a></td>\n <td><a href=\"/wiki/Rosedale,_Toronto\" title=\"Rosedale, Toronto\">Rosedale</a>\n </td></tr>, <tr>\n <td>M5W</td>\n <td><a href=\"/wiki/Downtown_Toronto\" title=\"Downtown Toronto\">Downtown Toronto</a></td>\n <td>Stn A PO Boxes 25 The Esplanade\n </td></tr>, <tr>\n <td>M6W</td>\n <td>Not assigned</td>\n <td>Not assigned\n </td></tr>, <tr>\n <td>M7W</td>\n <td>Not assigned</td>\n <td>Not assigned\n </td></tr>, <tr>\n <td>M8W</td>\n <td><a href=\"/wiki/Etobicoke\" title=\"Etobicoke\">Etobicoke</a></td>\n <td><a href=\"/wiki/Alderwood,_Toronto\" title=\"Alderwood, Toronto\">Alderwood</a>\n </td></tr>, <tr>\n <td>M8W</td>\n <td><a href=\"/wiki/Etobicoke\" title=\"Etobicoke\">Etobicoke</a></td>\n <td><a href=\"/wiki/Long_Branch,_Toronto\" title=\"Long Branch, Toronto\">Long Branch</a>\n </td></tr>, <tr>\n <td>M9W</td>\n <td><a href=\"/wiki/Etobicoke\" title=\"Etobicoke\">Etobicoke</a></td>\n <td><a class=\"mw-redirect\" href=\"/wiki/Northwest\" title=\"Northwest\">Northwest</a>\n </td></tr>, <tr>\n <td>M1X</td>\n <td><a href=\"/wiki/Scarborough,_Toronto\" title=\"Scarborough, Toronto\">Scarborough</a></td>\n <td><a class=\"mw-redirect\" href=\"/wiki/Upper_Rouge\" title=\"Upper Rouge\">Upper Rouge</a>\n </td></tr>, <tr>\n <td>M2X</td>\n <td>Not assigned</td>\n <td>Not assigned\n </td></tr>, <tr>\n <td>M3X</td>\n <td>Not assigned</td>\n <td>Not assigned\n </td></tr>, <tr>\n <td>M4X</td>\n <td><a href=\"/wiki/Downtown_Toronto\" title=\"Downtown Toronto\">Downtown Toronto</a></td>\n <td><a href=\"/wiki/Cabbagetown,_Toronto\" title=\"Cabbagetown, Toronto\">Cabbagetown</a>\n </td></tr>, <tr>\n <td>M4X</td>\n <td><a href=\"/wiki/Downtown_Toronto\" title=\"Downtown Toronto\">Downtown Toronto</a></td>\n <td><a href=\"/wiki/St._James_Town\" title=\"St. James Town\">St. James Town</a>\n </td></tr>, <tr>\n <td>M5X</td>\n <td><a href=\"/wiki/Downtown_Toronto\" title=\"Downtown Toronto\">Downtown Toronto</a></td>\n <td><a href=\"/wiki/First_Canadian_Place\" title=\"First Canadian Place\">First Canadian Place</a>\n </td></tr>, <tr>\n <td>M5X</td>\n <td><a href=\"/wiki/Downtown_Toronto\" title=\"Downtown Toronto\">Downtown Toronto</a></td>\n <td><a href=\"/wiki/Underground_city\" title=\"Underground city\">Underground city</a>\n </td></tr>, <tr>\n <td>M6X</td>\n <td>Not assigned</td>\n <td>Not assigned\n </td></tr>, <tr>\n <td>M7X</td>\n <td>Not assigned</td>\n <td>Not assigned\n </td></tr>, <tr>\n <td>M8X</td>\n <td><a href=\"/wiki/Etobicoke\" title=\"Etobicoke\">Etobicoke</a></td>\n <td><a href=\"/wiki/The_Kingsway\" title=\"The Kingsway\">The Kingsway</a>\n </td></tr>, <tr>\n <td>M8X</td>\n <td><a href=\"/wiki/Etobicoke\" title=\"Etobicoke\">Etobicoke</a></td>\n <td>Montgomery Road\n </td></tr>, <tr>\n <td>M8X</td>\n <td><a href=\"/wiki/Etobicoke\" title=\"Etobicoke\">Etobicoke</a></td>\n <td>Old Mill North\n </td></tr>, <tr>\n <td>M9X</td>\n <td>Not assigned</td>\n <td>Not assigned\n </td></tr>, <tr>\n <td>M1Y</td>\n <td>Not assigned</td>\n <td>Not assigned\n </td></tr>, <tr>\n <td>M2Y</td>\n <td>Not assigned</td>\n <td>Not assigned\n </td></tr>, <tr>\n <td>M3Y</td>\n <td>Not assigned</td>\n <td>Not assigned\n </td></tr>, <tr>\n <td>M4Y</td>\n <td><a href=\"/wiki/Downtown_Toronto\" title=\"Downtown Toronto\">Downtown Toronto</a></td>\n <td><a href=\"/wiki/Church_and_Wellesley\" title=\"Church and Wellesley\">Church and Wellesley</a>\n </td></tr>, <tr>\n <td>M5Y</td>\n <td>Not assigned</td>\n <td>Not assigned\n </td></tr>, <tr>\n <td>M6Y</td>\n <td>Not assigned</td>\n <td>Not assigned\n </td></tr>, <tr>\n <td>M7Y</td>\n <td><a href=\"/wiki/East_Toronto\" title=\"East Toronto\">East Toronto</a></td>\n <td>Business Reply Mail Processing Centre 969 Eastern\n </td></tr>, <tr>\n <td>M8Y</td>\n <td><a href=\"/wiki/Etobicoke\" title=\"Etobicoke\">Etobicoke</a></td>\n <td><a href=\"/wiki/Humber_Bay\" title=\"Humber Bay\">Humber Bay</a>\n </td></tr>, <tr>\n <td>M8Y</td>\n <td><a href=\"/wiki/Etobicoke\" title=\"Etobicoke\">Etobicoke</a></td>\n <td><a href=\"/wiki/Kingsmills_Park\" title=\"Kingsmills Park\">King's Mill Park</a>\n </td></tr>, <tr>\n <td>M8Y</td>\n <td><a href=\"/wiki/Etobicoke\" title=\"Etobicoke\">Etobicoke</a></td>\n <td>Kingsway Park South East\n </td></tr>, <tr>\n <td>M8Y</td>\n <td><a href=\"/wiki/Etobicoke\" title=\"Etobicoke\">Etobicoke</a></td>\n <td><a href=\"/wiki/Mimico\" title=\"Mimico\">Mimico NE</a>\n </td></tr>, <tr>\n <td>M8Y</td>\n <td><a href=\"/wiki/Etobicoke\" title=\"Etobicoke\">Etobicoke</a></td>\n <td><a href=\"/wiki/Old_Mill,_Toronto\" title=\"Old Mill, Toronto\">Old Mill South</a>\n </td></tr>, <tr>\n <td>M8Y</td>\n <td><a href=\"/wiki/Etobicoke\" title=\"Etobicoke\">Etobicoke</a></td>\n <td><a href=\"/wiki/The_Queensway\" title=\"The Queensway\">The Queensway East</a>\n </td></tr>, <tr>\n <td>M8Y</td>\n <td><a href=\"/wiki/Etobicoke\" title=\"Etobicoke\">Etobicoke</a></td>\n <td><a class=\"mw-redirect\" href=\"/wiki/Fairmont_Royal_York_Hotel\" title=\"Fairmont Royal York Hotel\">Royal York South East</a>\n </td></tr>, <tr>\n <td>M8Y</td>\n <td><a href=\"/wiki/Etobicoke\" title=\"Etobicoke\">Etobicoke</a></td>\n <td><a class=\"mw-redirect\" href=\"/wiki/Sunnylea\" title=\"Sunnylea\">Sunnylea</a>\n </td></tr>, <tr>\n <td>M9Y</td>\n <td>Not assigned</td>\n <td>Not assigned\n </td></tr>, <tr>\n <td>M1Z</td>\n <td>Not assigned</td>\n <td>Not assigned\n </td></tr>, <tr>\n <td>M2Z</td>\n <td>Not assigned</td>\n <td>Not assigned\n </td></tr>, <tr>\n <td>M3Z</td>\n <td>Not assigned</td>\n <td>Not assigned\n </td></tr>, <tr>\n <td>M4Z</td>\n <td>Not assigned</td>\n <td>Not assigned\n </td></tr>, <tr>\n <td>M5Z</td>\n <td>Not assigned</td>\n <td>Not assigned\n </td></tr>, <tr>\n <td>M6Z</td>\n <td>Not assigned</td>\n <td>Not assigned\n </td></tr>, <tr>\n <td>M7Z</td>\n <td>Not assigned</td>\n <td>Not assigned\n </td></tr>, <tr>\n <td>M8Z</td>\n <td><a href=\"/wiki/Etobicoke\" title=\"Etobicoke\">Etobicoke</a></td>\n <td>Kingsway Park South West\n </td></tr>, <tr>\n <td>M8Z</td>\n <td><a href=\"/wiki/Etobicoke\" title=\"Etobicoke\">Etobicoke</a></td>\n <td><a href=\"/wiki/Mimico\" title=\"Mimico\">Mimico NW</a>\n </td></tr>, <tr>\n <td>M8Z</td>\n <td><a href=\"/wiki/Etobicoke\" title=\"Etobicoke\">Etobicoke</a></td>\n <td><a href=\"/wiki/The_Queensway\" title=\"The Queensway\">The Queensway West</a>\n </td></tr>, <tr>\n <td>M8Z</td>\n <td><a href=\"/wiki/Etobicoke\" title=\"Etobicoke\">Etobicoke</a></td>\n <td>Royal York South West\n </td></tr>, <tr>\n <td>M8Z</td>\n <td><a href=\"/wiki/Etobicoke\" title=\"Etobicoke\">Etobicoke</a></td>\n <td><a href=\"/wiki/Bloor\" title=\"Bloor\">South of Bloor</a>\n </td></tr>, <tr>\n <td>M9Z</td>\n <td>Not assigned</td>\n <td>Not assigned\n </td></tr>]"
                    }, 
                    "output_type": "execute_result"
                }
            ], 
            "source": "# Extracts all \"tr\" (table rows) within the table above\nrows = table.find_all('tr')\nrows"
        }, 
        {
            "execution_count": 11, 
            "cell_type": "code", 
            "metadata": {}, 
            "outputs": [
                {
                    "execution_count": 11, 
                    "metadata": {}, 
                    "data": {
                        "text/plain": "['Postcode', 'Borough', 'Neighbourhood']"
                    }, 
                    "output_type": "execute_result"
                }
            ], 
            "source": "# Extracts the column headers, removes and replaces possible '\\n' with space for the \"th\" tag\ncolumns = [i.text.replace('\\n', '')\n           for i in rows[0].find_all('th')]\ncolumns"
        }, 
        {
            "source": "### 1.3 Creating the Dataframe", 
            "cell_type": "markdown", 
            "metadata": {}
        }, 
        {
            "execution_count": 12, 
            "cell_type": "code", 
            "metadata": {}, 
            "outputs": [
                {
                    "execution_count": 12, 
                    "metadata": {}, 
                    "data": {
                        "text/html": "<div>\n<style scoped>\n    .dataframe tbody tr th:only-of-type {\n        vertical-align: middle;\n    }\n\n    .dataframe tbody tr th {\n        vertical-align: top;\n    }\n\n    .dataframe thead th {\n        text-align: right;\n    }\n</style>\n<table border=\"1\" class=\"dataframe\">\n  <thead>\n    <tr style=\"text-align: right;\">\n      <th></th>\n      <th>Postcode</th>\n      <th>Borough</th>\n      <th>Neighbourhood</th>\n    </tr>\n  </thead>\n  <tbody>\n  </tbody>\n</table>\n</div>", 
                        "text/plain": "Empty DataFrame\nColumns: [Postcode, Borough, Neighbourhood]\nIndex: []"
                    }, 
                    "output_type": "execute_result"
                }
            ], 
            "source": "# Converts columns to pd dataframe\ndf = pd.DataFrame(columns = columns)\ndf"
        }, 
        {
            "execution_count": 13, 
            "cell_type": "code", 
            "metadata": {}, 
            "outputs": [], 
            "source": "# Extracts every row with corresponding columns\n# Then appends the values to the create pd dataframe \"df\"\n# Please not that the first row (row[0]) is skipped because it is already the header\n\nfor i in range(1, len(rows)):\n    tds = rows[i].find_all('td')\n    \n    \n    if len(tds) == 4:\n        values = [tds[0].text, tds[1].text, tds[2].text, tds[3].text.replace('\\n', ''.replace('\\xa0',''))]\n    else:\n        values = [td.text.replace('\\n', '').replace('\\xa0','') for td in tds]\n        \n        df = df.append(pd.Series(values, index = columns), ignore_index = True)\n\n        df"
        }, 
        {
            "execution_count": 14, 
            "cell_type": "code", 
            "metadata": {}, 
            "outputs": [
                {
                    "execution_count": 14, 
                    "metadata": {}, 
                    "data": {
                        "text/plain": "(289, 3)"
                    }, 
                    "output_type": "execute_result"
                }
            ], 
            "source": "# Original shape of dataframe\ndf.shape"
        }, 
        {
            "execution_count": 15, 
            "cell_type": "code", 
            "metadata": {}, 
            "outputs": [
                {
                    "execution_count": 15, 
                    "metadata": {}, 
                    "data": {
                        "text/html": "<div>\n<style scoped>\n    .dataframe tbody tr th:only-of-type {\n        vertical-align: middle;\n    }\n\n    .dataframe tbody tr th {\n        vertical-align: top;\n    }\n\n    .dataframe thead th {\n        text-align: right;\n    }\n</style>\n<table border=\"1\" class=\"dataframe\">\n  <thead>\n    <tr style=\"text-align: right;\">\n      <th></th>\n      <th>Postcode</th>\n      <th>Borough</th>\n      <th>Neighbourhood</th>\n    </tr>\n  </thead>\n  <tbody>\n    <tr>\n      <th>0</th>\n      <td>M1A</td>\n      <td>Not assigned</td>\n      <td>Not assigned</td>\n    </tr>\n    <tr>\n      <th>1</th>\n      <td>M2A</td>\n      <td>Not assigned</td>\n      <td>Not assigned</td>\n    </tr>\n    <tr>\n      <th>2</th>\n      <td>M3A</td>\n      <td>North York</td>\n      <td>Parkwoods</td>\n    </tr>\n    <tr>\n      <th>3</th>\n      <td>M4A</td>\n      <td>North York</td>\n      <td>Victoria Village</td>\n    </tr>\n    <tr>\n      <th>4</th>\n      <td>M5A</td>\n      <td>Downtown Toronto</td>\n      <td>Harbourfront</td>\n    </tr>\n    <tr>\n      <th>5</th>\n      <td>M5A</td>\n      <td>Downtown Toronto</td>\n      <td>Regent Park</td>\n    </tr>\n    <tr>\n      <th>6</th>\n      <td>M6A</td>\n      <td>North York</td>\n      <td>Lawrence Heights</td>\n    </tr>\n    <tr>\n      <th>7</th>\n      <td>M6A</td>\n      <td>North York</td>\n      <td>Lawrence Manor</td>\n    </tr>\n    <tr>\n      <th>8</th>\n      <td>M7A</td>\n      <td>Queen's Park</td>\n      <td>Not assigned</td>\n    </tr>\n    <tr>\n      <th>9</th>\n      <td>M8A</td>\n      <td>Not assigned</td>\n      <td>Not assigned</td>\n    </tr>\n  </tbody>\n</table>\n</div>", 
                        "text/plain": "  Postcode           Borough     Neighbourhood\n0      M1A      Not assigned      Not assigned\n1      M2A      Not assigned      Not assigned\n2      M3A        North York         Parkwoods\n3      M4A        North York  Victoria Village\n4      M5A  Downtown Toronto      Harbourfront\n5      M5A  Downtown Toronto       Regent Park\n6      M6A        North York  Lawrence Heights\n7      M6A        North York    Lawrence Manor\n8      M7A      Queen's Park      Not assigned\n9      M8A      Not assigned      Not assigned"
                    }, 
                    "output_type": "execute_result"
                }
            ], 
            "source": "df.head(10)"
        }, 
        {
            "execution_count": 16, 
            "cell_type": "code", 
            "metadata": {}, 
            "outputs": [
                {
                    "execution_count": 16, 
                    "metadata": {}, 
                    "data": {
                        "text/plain": "77"
                    }, 
                    "output_type": "execute_result"
                }
            ], 
            "source": "(df['Borough'] == 'Not assigned').sum()"
        }, 
        {
            "execution_count": 17, 
            "cell_type": "code", 
            "metadata": {}, 
            "outputs": [], 
            "source": "dff = df # reassignment to preserve the original content of \"df\" before manipulations"
        }, 
        {
            "source": "### 1.4 Dataframe manipulation", 
            "cell_type": "markdown", 
            "metadata": {}
        }, 
        {
            "source": "There are `77`\"Not assigned\" values under the **`Borough`**. Since only cells with an assigned Borough will be processed, therefore, any cell where the `Borough` is `Not assigned` are dropped as shown below:", 
            "cell_type": "markdown", 
            "metadata": {}
        }, 
        {
            "execution_count": 18, 
            "cell_type": "code", 
            "metadata": {}, 
            "outputs": [
                {
                    "execution_count": 18, 
                    "metadata": {}, 
                    "data": {
                        "text/html": "<div>\n<style scoped>\n    .dataframe tbody tr th:only-of-type {\n        vertical-align: middle;\n    }\n\n    .dataframe tbody tr th {\n        vertical-align: top;\n    }\n\n    .dataframe thead th {\n        text-align: right;\n    }\n</style>\n<table border=\"1\" class=\"dataframe\">\n  <thead>\n    <tr style=\"text-align: right;\">\n      <th></th>\n      <th>Postcode</th>\n      <th>Borough</th>\n      <th>Neighbourhood</th>\n    </tr>\n  </thead>\n  <tbody>\n    <tr>\n      <th>2</th>\n      <td>M3A</td>\n      <td>North York</td>\n      <td>Parkwoods</td>\n    </tr>\n    <tr>\n      <th>3</th>\n      <td>M4A</td>\n      <td>North York</td>\n      <td>Victoria Village</td>\n    </tr>\n    <tr>\n      <th>4</th>\n      <td>M5A</td>\n      <td>Downtown Toronto</td>\n      <td>Harbourfront</td>\n    </tr>\n    <tr>\n      <th>5</th>\n      <td>M5A</td>\n      <td>Downtown Toronto</td>\n      <td>Regent Park</td>\n    </tr>\n    <tr>\n      <th>6</th>\n      <td>M6A</td>\n      <td>North York</td>\n      <td>Lawrence Heights</td>\n    </tr>\n  </tbody>\n</table>\n</div>", 
                        "text/plain": "  Postcode           Borough     Neighbourhood\n2      M3A        North York         Parkwoods\n3      M4A        North York  Victoria Village\n4      M5A  Downtown Toronto      Harbourfront\n5      M5A  Downtown Toronto       Regent Park\n6      M6A        North York  Lawrence Heights"
                    }, 
                    "output_type": "execute_result"
                }
            ], 
            "source": "# df_na is the output of the dataframe after dropping the Borough \"Not assigned\" rows\ndf_na = dff[dff.Borough != 'Not assigned']\ndf_na.head()"
        }, 
        {
            "execution_count": 19, 
            "cell_type": "code", 
            "metadata": {}, 
            "outputs": [
                {
                    "execution_count": 19, 
                    "metadata": {}, 
                    "data": {
                        "text/plain": "(212, 3)"
                    }, 
                    "output_type": "execute_result"
                }
            ], 
            "source": "# Shape of dataframe after dropping the Borough \"Not assigned\" rows\ndf_na.shape"
        }, 
        {
            "source": "To know how many Neighbourhoods has **`Not assigned`** but with Borough name, the following was done:", 
            "cell_type": "markdown", 
            "metadata": {}
        }, 
        {
            "execution_count": 20, 
            "cell_type": "code", 
            "metadata": {}, 
            "outputs": [
                {
                    "execution_count": 20, 
                    "metadata": {}, 
                    "data": {
                        "text/plain": "1"
                    }, 
                    "output_type": "execute_result"
                }
            ], 
            "source": "(df_na['Neighbourhood'] == 'Not assigned').sum()"
        }, 
        {
            "source": "So it is only `1` `Not assigned` neighbourhood that will be replaced by it Borough name.", 
            "cell_type": "markdown", 
            "metadata": {}
        }, 
        {
            "execution_count": 21, 
            "cell_type": "code", 
            "metadata": {}, 
            "outputs": [
                {
                    "output_type": "stream", 
                    "name": "stderr", 
                    "text": "/opt/conda/envs/DSX-Python35/lib/python3.5/site-packages/ipykernel/__main__.py:3: SettingWithCopyWarning: \nA value is trying to be set on a copy of a slice from a DataFrame.\nTry using .loc[row_indexer,col_indexer] = value instead\n\nSee the caveats in the documentation: http://pandas.pydata.org/pandas-docs/stable/indexing.html#indexing-view-versus-copy\n  app.launch_new_instance()\n"
                }
            ], 
            "source": "# Using numpy was faster for this replacement\nimport numpy as np\ndf_na['Neighbourhood'] = np.where(df_na['Neighbourhood'] == 'Not assigned', df_na['Borough'], df_na['Neighbourhood'])"
        }, 
        {
            "execution_count": 22, 
            "cell_type": "code", 
            "metadata": {}, 
            "outputs": [
                {
                    "execution_count": 22, 
                    "metadata": {}, 
                    "data": {
                        "text/plain": "(212, 3)"
                    }, 
                    "output_type": "execute_result"
                }
            ], 
            "source": "df_na.shape"
        }, 
        {
            "execution_count": 23, 
            "cell_type": "code", 
            "metadata": {}, 
            "outputs": [
                {
                    "execution_count": 23, 
                    "metadata": {}, 
                    "data": {
                        "text/html": "<div>\n<style scoped>\n    .dataframe tbody tr th:only-of-type {\n        vertical-align: middle;\n    }\n\n    .dataframe tbody tr th {\n        vertical-align: top;\n    }\n\n    .dataframe thead th {\n        text-align: right;\n    }\n</style>\n<table border=\"1\" class=\"dataframe\">\n  <thead>\n    <tr style=\"text-align: right;\">\n      <th></th>\n      <th>Postcode</th>\n      <th>Borough</th>\n      <th>Neighbourhood</th>\n    </tr>\n  </thead>\n  <tbody>\n    <tr>\n      <th>2</th>\n      <td>M3A</td>\n      <td>North York</td>\n      <td>Parkwoods</td>\n    </tr>\n    <tr>\n      <th>3</th>\n      <td>M4A</td>\n      <td>North York</td>\n      <td>Victoria Village</td>\n    </tr>\n    <tr>\n      <th>4</th>\n      <td>M5A</td>\n      <td>Downtown Toronto</td>\n      <td>Harbourfront</td>\n    </tr>\n    <tr>\n      <th>5</th>\n      <td>M5A</td>\n      <td>Downtown Toronto</td>\n      <td>Regent Park</td>\n    </tr>\n    <tr>\n      <th>6</th>\n      <td>M6A</td>\n      <td>North York</td>\n      <td>Lawrence Heights</td>\n    </tr>\n  </tbody>\n</table>\n</div>", 
                        "text/plain": "  Postcode           Borough     Neighbourhood\n2      M3A        North York         Parkwoods\n3      M4A        North York  Victoria Village\n4      M5A  Downtown Toronto      Harbourfront\n5      M5A  Downtown Toronto       Regent Park\n6      M6A        North York  Lawrence Heights"
                    }, 
                    "output_type": "execute_result"
                }
            ], 
            "source": "df_na.head(5)"
        }, 
        {
            "source": "The shape of the dataframe `df_na` is still the same - `(212, 3)`.", 
            "cell_type": "markdown", 
            "metadata": {}
        }, 
        {
            "execution_count": 24, 
            "cell_type": "code", 
            "metadata": {}, 
            "outputs": [
                {
                    "execution_count": 24, 
                    "metadata": {}, 
                    "data": {
                        "text/plain": "pandas.core.frame.DataFrame"
                    }, 
                    "output_type": "execute_result"
                }
            ], 
            "source": "type(df_na)"
        }, 
        {
            "source": "Now, to get where more than one neighborhood exist in one postal code area and combining the respective rows for the neighbourhood into the Postcode and corresponding Borough, the following was done and subsequently checked to for the given instance of **`M5A`** listed twice and with two neighborhoods - **Harbourfront** and **Regent Park**. These rows are combined and separated with a comma as shown.", 
            "cell_type": "markdown", 
            "metadata": {}
        }, 
        {
            "execution_count": 25, 
            "cell_type": "code", 
            "metadata": {}, 
            "outputs": [
                {
                    "execution_count": 25, 
                    "metadata": {}, 
                    "data": {
                        "text/html": "<div>\n<style scoped>\n    .dataframe tbody tr th:only-of-type {\n        vertical-align: middle;\n    }\n\n    .dataframe tbody tr th {\n        vertical-align: top;\n    }\n\n    .dataframe thead th {\n        text-align: right;\n    }\n</style>\n<table border=\"1\" class=\"dataframe\">\n  <thead>\n    <tr style=\"text-align: right;\">\n      <th></th>\n      <th>Postcode</th>\n      <th>Borough</th>\n      <th>Neighbourhood</th>\n    </tr>\n  </thead>\n  <tbody>\n    <tr>\n      <th>0</th>\n      <td>M1B</td>\n      <td>Scarborough</td>\n      <td>Rouge, Malvern</td>\n    </tr>\n    <tr>\n      <th>1</th>\n      <td>M1C</td>\n      <td>Scarborough</td>\n      <td>Highland Creek, Rouge Hill, Port Union</td>\n    </tr>\n    <tr>\n      <th>2</th>\n      <td>M1E</td>\n      <td>Scarborough</td>\n      <td>Guildwood, Morningside, West Hill</td>\n    </tr>\n    <tr>\n      <th>3</th>\n      <td>M1G</td>\n      <td>Scarborough</td>\n      <td>Woburn</td>\n    </tr>\n    <tr>\n      <th>4</th>\n      <td>M1H</td>\n      <td>Scarborough</td>\n      <td>Cedarbrae</td>\n    </tr>\n    <tr>\n      <th>5</th>\n      <td>M1J</td>\n      <td>Scarborough</td>\n      <td>Scarborough Village</td>\n    </tr>\n    <tr>\n      <th>6</th>\n      <td>M1K</td>\n      <td>Scarborough</td>\n      <td>East Birchmount Park, Ionview, Kennedy Park</td>\n    </tr>\n    <tr>\n      <th>7</th>\n      <td>M1L</td>\n      <td>Scarborough</td>\n      <td>Clairlea, Golden Mile, Oakridge</td>\n    </tr>\n    <tr>\n      <th>8</th>\n      <td>M1M</td>\n      <td>Scarborough</td>\n      <td>Cliffcrest, Cliffside, Scarborough Village West</td>\n    </tr>\n    <tr>\n      <th>9</th>\n      <td>M1N</td>\n      <td>Scarborough</td>\n      <td>Birch Cliff, Cliffside West</td>\n    </tr>\n  </tbody>\n</table>\n</div>", 
                        "text/plain": "  Postcode      Borough                                    Neighbourhood\n0      M1B  Scarborough                                   Rouge, Malvern\n1      M1C  Scarborough           Highland Creek, Rouge Hill, Port Union\n2      M1E  Scarborough                Guildwood, Morningside, West Hill\n3      M1G  Scarborough                                           Woburn\n4      M1H  Scarborough                                        Cedarbrae\n5      M1J  Scarborough                              Scarborough Village\n6      M1K  Scarborough      East Birchmount Park, Ionview, Kennedy Park\n7      M1L  Scarborough                  Clairlea, Golden Mile, Oakridge\n8      M1M  Scarborough  Cliffcrest, Cliffside, Scarborough Village West\n9      M1N  Scarborough                      Birch Cliff, Cliffside West"
                    }, 
                    "output_type": "execute_result"
                }
            ], 
            "source": "# df_ca is the output of this combinations of neighbourhood\ndf_ca = df_na.groupby(['Postcode', 'Borough'])['Neighbourhood'].apply(', '.join).reset_index()\ndf_ca.columns = ['Postcode', 'Borough', 'Neighbourhood']\ndf_ca.head(10)"
        }, 
        {
            "execution_count": 26, 
            "cell_type": "code", 
            "metadata": {}, 
            "outputs": [], 
            "source": "# df_ca is assigned to df_toronto\ndf_toronto = df_ca"
        }, 
        {
            "execution_count": 27, 
            "cell_type": "code", 
            "metadata": {}, 
            "outputs": [
                {
                    "execution_count": 27, 
                    "metadata": {}, 
                    "data": {
                        "text/plain": "pandas.core.frame.DataFrame"
                    }, 
                    "output_type": "execute_result"
                }
            ], 
            "source": "type(df_toronto)"
        }, 
        {
            "execution_count": 28, 
            "cell_type": "code", 
            "metadata": {}, 
            "outputs": [
                {
                    "execution_count": 28, 
                    "metadata": {}, 
                    "data": {
                        "text/html": "<div>\n<style scoped>\n    .dataframe tbody tr th:only-of-type {\n        vertical-align: middle;\n    }\n\n    .dataframe tbody tr th {\n        vertical-align: top;\n    }\n\n    .dataframe thead th {\n        text-align: right;\n    }\n</style>\n<table border=\"1\" class=\"dataframe\">\n  <thead>\n    <tr style=\"text-align: right;\">\n      <th></th>\n      <th>Postcode</th>\n      <th>Borough</th>\n      <th>Neighbourhood</th>\n    </tr>\n  </thead>\n  <tbody>\n    <tr>\n      <th>0</th>\n      <td>M1B</td>\n      <td>Scarborough</td>\n      <td>Rouge, Malvern</td>\n    </tr>\n    <tr>\n      <th>1</th>\n      <td>M1C</td>\n      <td>Scarborough</td>\n      <td>Highland Creek, Rouge Hill, Port Union</td>\n    </tr>\n    <tr>\n      <th>2</th>\n      <td>M1E</td>\n      <td>Scarborough</td>\n      <td>Guildwood, Morningside, West Hill</td>\n    </tr>\n    <tr>\n      <th>3</th>\n      <td>M1G</td>\n      <td>Scarborough</td>\n      <td>Woburn</td>\n    </tr>\n    <tr>\n      <th>4</th>\n      <td>M1H</td>\n      <td>Scarborough</td>\n      <td>Cedarbrae</td>\n    </tr>\n  </tbody>\n</table>\n</div>", 
                        "text/plain": "  Postcode      Borough                           Neighbourhood\n0      M1B  Scarborough                          Rouge, Malvern\n1      M1C  Scarborough  Highland Creek, Rouge Hill, Port Union\n2      M1E  Scarborough       Guildwood, Morningside, West Hill\n3      M1G  Scarborough                                  Woburn\n4      M1H  Scarborough                               Cedarbrae"
                    }, 
                    "output_type": "execute_result"
                }
            ], 
            "source": "# df_toronto is the final dataframe\ndf_toronto.head()"
        }, 
        {
            "execution_count": 29, 
            "cell_type": "code", 
            "metadata": {}, 
            "outputs": [], 
            "source": "df_toronto.to_csv('TorontoPostcodes.csv', index = False)"
        }, 
        {
            "source": "The merging of neighbourhoods with same postcodes was verified for `M5A` as follows:", 
            "cell_type": "markdown", 
            "metadata": {}
        }, 
        {
            "execution_count": 30, 
            "cell_type": "code", 
            "metadata": {}, 
            "outputs": [
                {
                    "execution_count": 30, 
                    "metadata": {}, 
                    "data": {
                        "text/html": "<div>\n<style scoped>\n    .dataframe tbody tr th:only-of-type {\n        vertical-align: middle;\n    }\n\n    .dataframe tbody tr th {\n        vertical-align: top;\n    }\n\n    .dataframe thead th {\n        text-align: right;\n    }\n</style>\n<table border=\"1\" class=\"dataframe\">\n  <thead>\n    <tr style=\"text-align: right;\">\n      <th></th>\n      <th>Postcode</th>\n      <th>Borough</th>\n      <th>Neighbourhood</th>\n    </tr>\n  </thead>\n  <tbody>\n    <tr>\n      <th>53</th>\n      <td>M5A</td>\n      <td>Downtown Toronto</td>\n      <td>Harbourfront, Regent Park</td>\n    </tr>\n  </tbody>\n</table>\n</div>", 
                        "text/plain": "   Postcode           Borough              Neighbourhood\n53      M5A  Downtown Toronto  Harbourfront, Regent Park"
                    }, 
                    "output_type": "execute_result"
                }
            ], 
            "source": "df_toronto.loc[df_toronto['Postcode'] == 'M5A']"
        }, 
        {
            "execution_count": 31, 
            "cell_type": "code", 
            "metadata": {}, 
            "outputs": [
                {
                    "execution_count": 31, 
                    "metadata": {}, 
                    "data": {
                        "text/plain": "(103, 3)"
                    }, 
                    "output_type": "execute_result"
                }
            ], 
            "source": "# Final Data frame shape\ndf_toronto.shape"
        }, 
        {
            "source": "<a id='part2'></a>", 
            "cell_type": "markdown", 
            "metadata": {}
        }, 
        {
            "source": "## Part 2 - Geocoding", 
            "cell_type": "markdown", 
            "metadata": {}
        }, 
        {
            "execution_count": 32, 
            "cell_type": "code", 
            "metadata": {}, 
            "outputs": [], 
            "source": "!pip -q install geocoder\n#!conda install -c conda-forge geocoder --yes "
        }, 
        {
            "execution_count": 33, 
            "cell_type": "code", 
            "metadata": {}, 
            "outputs": [], 
            "source": "# Imports Geocoder libraries - google, arcgis et cetera\nimport geocoder"
        }, 
        {
            "execution_count": 34, 
            "cell_type": "code", 
            "metadata": {}, 
            "outputs": [
                {
                    "execution_count": 34, 
                    "metadata": {}, 
                    "data": {
                        "text/html": "<div>\n<style scoped>\n    .dataframe tbody tr th:only-of-type {\n        vertical-align: middle;\n    }\n\n    .dataframe tbody tr th {\n        vertical-align: top;\n    }\n\n    .dataframe thead th {\n        text-align: right;\n    }\n</style>\n<table border=\"1\" class=\"dataframe\">\n  <thead>\n    <tr style=\"text-align: right;\">\n      <th></th>\n      <th>Postcode</th>\n      <th>Borough</th>\n      <th>Neighbourhood</th>\n    </tr>\n  </thead>\n  <tbody>\n    <tr>\n      <th>98</th>\n      <td>M9N</td>\n      <td>York</td>\n      <td>Weston</td>\n    </tr>\n    <tr>\n      <th>99</th>\n      <td>M9P</td>\n      <td>Etobicoke</td>\n      <td>Westmount</td>\n    </tr>\n    <tr>\n      <th>100</th>\n      <td>M9R</td>\n      <td>Etobicoke</td>\n      <td>Kingsview Village, Martin Grove Gardens, Richv...</td>\n    </tr>\n    <tr>\n      <th>101</th>\n      <td>M9V</td>\n      <td>Etobicoke</td>\n      <td>Albion Gardens, Beaumond Heights, Humbergate, ...</td>\n    </tr>\n    <tr>\n      <th>102</th>\n      <td>M9W</td>\n      <td>Etobicoke</td>\n      <td>Northwest</td>\n    </tr>\n  </tbody>\n</table>\n</div>", 
                        "text/plain": "    Postcode    Borough                                      Neighbourhood\n98       M9N       York                                             Weston\n99       M9P  Etobicoke                                          Westmount\n100      M9R  Etobicoke  Kingsview Village, Martin Grove Gardens, Richv...\n101      M9V  Etobicoke  Albion Gardens, Beaumond Heights, Humbergate, ...\n102      M9W  Etobicoke                                          Northwest"
                    }, 
                    "output_type": "execute_result"
                }
            ], 
            "source": "df_toronto.tail(5)"
        }, 
        {
            "source": "**Special Note:**: After running the `Google` geocoder - `g = geocoder.arcgis` for several hours, it was put aside for the `arcgis`. The **ARCGIS** is from **ESRI ARCGIS**. And it was fast enough. _Please check the __[`Geocoder`](https://media.readthedocs.org/pdf/geocoder/latest/geocoder.pdf)__ for more._", 
            "cell_type": "markdown", 
            "metadata": {}
        }, 
        {
            "execution_count": 35, 
            "cell_type": "code", 
            "metadata": {}, 
            "outputs": [
                {
                    "output_type": "stream", 
                    "name": "stdout", 
                    "text": "Time of execution:  0.00014901161193847656\n"
                }
            ], 
            "source": "import time\nstart = time.time()\n\n'''Geocoder starts here'''\n'''Defining a function to use --> get_latlng()'''\ndef get_latlng(arcgis_geocoder):\n    \n    # Initialize the Location (lat. and long.) to \"None\"\n    lat_lng_coords = None\n    \n    # While loop helps to create a continous run until all the location coordinates are geocoded\n    \n    while(lat_lng_coords is None):\n        g = geocoder.arcgis('{}, Toronto, Ontario'.format(arcgis_geocoder))\n        lat_lng_coords = g.latlng\n    return lat_lng_coords\n'''Geocoder ends here'''\n\nend = time.time()\nprint(\"Time of execution: \", end - start)"
        }, 
        {
            "source": "To check the accuracy the geocoding, a sample postcode was used and then reversed-geocoded using a Geocoder provider that provides `REVERSE GEOCODING`, `geocodefarm` was used, which is part of **GeocodeFarm** (please see Geocoder documentation above).", 
            "cell_type": "markdown", 
            "metadata": {}
        }, 
        {
            "execution_count": 36, 
            "cell_type": "code", 
            "metadata": {}, 
            "outputs": [
                {
                    "execution_count": 36, 
                    "metadata": {}, 
                    "data": {
                        "text/plain": "[43.70976500000006, -79.36379132299999]"
                    }, 
                    "output_type": "execute_result"
                }
            ], 
            "source": "sample = get_latlng('M4G')\nsample"
        }, 
        {
            "execution_count": 37, 
            "cell_type": "code", 
            "metadata": {}, 
            "outputs": [
                {
                    "execution_count": 37, 
                    "metadata": {}, 
                    "data": {
                        "text/plain": "<[OK] Geocodefarm - Reverse [253 McRae Dr, Toronto, ON M4G 1T7, Canada, Canada]>"
                    }, 
                    "output_type": "execute_result"
                }
            ], 
            "source": "gg = geocoder.geocodefarm(sample,method = 'reverse')\ngg"
        }, 
        {
            "execution_count": 38, 
            "cell_type": "code", 
            "metadata": {}, 
            "outputs": [
                {
                    "output_type": "stream", 
                    "name": "stdout", 
                    "text": "Time of execution:  54.89758849143982 seconds\n"
                }
            ], 
            "source": "import time\nstart = time.time()\n\npostal_codes = df_toronto['Postcode']    \ncoordinates = [get_latlng(postal_code) for postal_code in postal_codes.tolist()]\n\nend = time.time()\nprint(\"Time of execution: \", end - start, \"seconds\")"
        }, 
        {
            "execution_count": 39, 
            "cell_type": "code", 
            "metadata": {}, 
            "outputs": [], 
            "source": "# This will store the Toronto dataframe with coordinates\ndf_toronto_loc = df_toronto\n\n# The obtained coordinates (latitude and longitude) are joined with the dataframe as shown\ndf_toronto_coordinates = pd.DataFrame(coordinates, columns = ['Latitude', 'Longitude'])\ndf_toronto_loc['Latitude'] = df_toronto_coordinates['Latitude']\ndf_toronto_loc['Longitude'] = df_toronto_coordinates['Longitude']"
        }, 
        {
            "execution_count": 40, 
            "cell_type": "code", 
            "metadata": {}, 
            "outputs": [
                {
                    "execution_count": 40, 
                    "metadata": {}, 
                    "data": {
                        "text/html": "<div>\n<style scoped>\n    .dataframe tbody tr th:only-of-type {\n        vertical-align: middle;\n    }\n\n    .dataframe tbody tr th {\n        vertical-align: top;\n    }\n\n    .dataframe thead th {\n        text-align: right;\n    }\n</style>\n<table border=\"1\" class=\"dataframe\">\n  <thead>\n    <tr style=\"text-align: right;\">\n      <th></th>\n      <th>Postcode</th>\n      <th>Borough</th>\n      <th>Neighbourhood</th>\n      <th>Latitude</th>\n      <th>Longitude</th>\n    </tr>\n  </thead>\n  <tbody>\n    <tr>\n      <th>0</th>\n      <td>M1B</td>\n      <td>Scarborough</td>\n      <td>Rouge, Malvern</td>\n      <td>43.811650</td>\n      <td>-79.195561</td>\n    </tr>\n    <tr>\n      <th>1</th>\n      <td>M1C</td>\n      <td>Scarborough</td>\n      <td>Highland Creek, Rouge Hill, Port Union</td>\n      <td>43.785605</td>\n      <td>-79.158701</td>\n    </tr>\n    <tr>\n      <th>2</th>\n      <td>M1E</td>\n      <td>Scarborough</td>\n      <td>Guildwood, Morningside, West Hill</td>\n      <td>43.765690</td>\n      <td>-79.175299</td>\n    </tr>\n    <tr>\n      <th>3</th>\n      <td>M1G</td>\n      <td>Scarborough</td>\n      <td>Woburn</td>\n      <td>43.768216</td>\n      <td>-79.217610</td>\n    </tr>\n    <tr>\n      <th>4</th>\n      <td>M1H</td>\n      <td>Scarborough</td>\n      <td>Cedarbrae</td>\n      <td>43.769608</td>\n      <td>-79.239440</td>\n    </tr>\n  </tbody>\n</table>\n</div>", 
                        "text/plain": "  Postcode      Borough                           Neighbourhood   Latitude  \\\n0      M1B  Scarborough                          Rouge, Malvern  43.811650   \n1      M1C  Scarborough  Highland Creek, Rouge Hill, Port Union  43.785605   \n2      M1E  Scarborough       Guildwood, Morningside, West Hill  43.765690   \n3      M1G  Scarborough                                  Woburn  43.768216   \n4      M1H  Scarborough                               Cedarbrae  43.769608   \n\n   Longitude  \n0 -79.195561  \n1 -79.158701  \n2 -79.175299  \n3 -79.217610  \n4 -79.239440  "
                    }, 
                    "output_type": "execute_result"
                }
            ], 
            "source": "df_toronto_loc.to_csv('TorontoPostcodes.csv', index = False)\n\ndf_toronto_loc.head(5)"
        }, 
        {
            "execution_count": 42, 
            "cell_type": "code", 
            "metadata": {}, 
            "outputs": [], 
            "source": "!pip -q install folium"
        }, 
        {
            "execution_count": 43, 
            "cell_type": "code", 
            "metadata": {}, 
            "outputs": [
                {
                    "output_type": "display_data", 
                    "data": {
                        "text/html": "<div style=\"width:100%;\"><div style=\"position:relative;width:100%;height:0;padding-bottom:60%;\"><iframe src=\"data:text/html;charset=utf-8;base64,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\" style=\"position:absolute;width:100%;height:100%;left:0;top:0;border:none !important;\" allowfullscreen webkitallowfullscreen mozallowfullscreen></iframe></div></div>", 
                        "text/plain": "<folium.folium.Map at 0x7fbe7d93dd30>"
                    }, 
                    "metadata": {}
                }
            ], 
            "source": "import folium\nimport pandas as pd\n\n# Toronto_coordinates - 43.6532\u00b0 N, 79.3832\u00b0 W\ntoronto_loc = (43.6532, -79.3832)\n# create empty map zoomed in on Toronto\nmap = folium.Map(location = toronto_loc, zoom_start = 12)\n\ndisplay(map)"
        }, 
        {
            "source": "<a id='part3'></a>", 
            "cell_type": "markdown", 
            "metadata": {}
        }, 
        {
            "source": "## Part 3 - Exploration and Clustering", 
            "cell_type": "markdown", 
            "metadata": {}
        }, 
        {
            "execution_count": null, 
            "cell_type": "code", 
            "metadata": {}, 
            "outputs": [], 
            "source": ""
        }
    ], 
    "metadata": {
        "kernelspec": {
            "display_name": "Python 3.5", 
            "name": "python3", 
            "language": "python"
        }, 
        "widgets": {
            "state": {}, 
            "version": "1.1.2"
        }, 
        "language_info": {
            "mimetype": "text/x-python", 
            "nbconvert_exporter": "python", 
            "version": "3.5.5", 
            "name": "python", 
            "file_extension": ".py", 
            "pygments_lexer": "ipython3", 
            "codemirror_mode": {
                "version": 3, 
                "name": "ipython"
            }
        }
    }, 
    "nbformat": 4
}